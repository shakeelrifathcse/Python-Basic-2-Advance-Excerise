{
  "nbformat": 4,
  "nbformat_minor": 0,
  "metadata": {
    "colab": {
      "provenance": [],
      "authorship_tag": "ABX9TyOUVJ1WtYsUuxdSdlAGtQo0",
      "include_colab_link": true
    },
    "kernelspec": {
      "name": "python3",
      "display_name": "Python 3"
    },
    "language_info": {
      "name": "python"
    }
  },
  "cells": [
    {
      "cell_type": "markdown",
      "metadata": {
        "id": "view-in-github",
        "colab_type": "text"
      },
      "source": [
        "<a href=\"https://colab.research.google.com/github/shakeelrifathcse/Python-Basic-2-Advance-Excerise/blob/main/functions.ipynb\" target=\"_parent\"><img src=\"https://colab.research.google.com/assets/colab-badge.svg\" alt=\"Open In Colab\"/></a>"
      ]
    },
    {
      "cell_type": "code",
      "execution_count": 8,
      "metadata": {
        "colab": {
          "base_uri": "https://localhost:8080/"
        },
        "id": "6EvsT7jpBq-k",
        "outputId": "84db9376-c1c4-4906-d4a1-8178a69ca349"
      },
      "outputs": [
        {
          "name": "stdout",
          "output_type": "stream",
          "text": [
            "Enter a:30\n",
            "Enter b:20\n"
          ]
        }
      ],
      "source": [
        "def printrange (r1, r2) :\n",
        "  for i in range (r1, r2+1) :\n",
        "    print(i)\n",
        "a=int(input(\"Enter a:\" ))\n",
        "b=int(input(\"Enter b:\"))\n",
        "printrange(a, b)"
      ]
    },
    {
      "cell_type": "code",
      "source": [
        "def add(a, b):\n",
        "    print(a + b)\n",
        "    return a + b\n",
        "add(5,3)\n",
        "\n"
      ],
      "metadata": {
        "colab": {
          "base_uri": "https://localhost:8080/"
        },
        "id": "D4qNiCs4B14V",
        "outputId": "6e158964-2f36-45c5-f655-e2f2f388a2fb"
      },
      "execution_count": 15,
      "outputs": [
        {
          "output_type": "stream",
          "name": "stdout",
          "text": [
            "8\n"
          ]
        },
        {
          "output_type": "execute_result",
          "data": {
            "text/plain": [
              "8"
            ]
          },
          "metadata": {},
          "execution_count": 15
        }
      ]
    },
    {
      "cell_type": "code",
      "source": [
        "def multiply_numbers(a=1, b=2):\n",
        "    return a * b\n",
        "\n",
        "result1 = multiply_numbers(4)\n",
        "result2 = multiply_numbers(4, 5)\n",
        "result3 = multiply_numbers(10,10)\n",
        "print(\"Result1:\", result1)\n",
        "print(\"Result2:\", result2)\n",
        "print(result3)\n"
      ],
      "metadata": {
        "colab": {
          "base_uri": "https://localhost:8080/"
        },
        "id": "I99_2iJkEXgB",
        "outputId": "b6aec84e-6d65-4886-a687-b6671bb27c53"
      },
      "execution_count": 20,
      "outputs": [
        {
          "output_type": "stream",
          "name": "stdout",
          "text": [
            "Result1: 8\n",
            "Result2: 20\n",
            "100\n"
          ]
        }
      ]
    },
    {
      "cell_type": "code",
      "source": [
        "def check_even_odd(number):\n",
        "    if number % 2 == 0:\n",
        "        return \"Even\"\n",
        "    else:\n",
        "        return \"Odd\"\n",
        "\n",
        "result = check_even_odd(7)\n",
        "print(\"The number is\", result)\n"
      ],
      "metadata": {
        "colab": {
          "base_uri": "https://localhost:8080/"
        },
        "id": "Ac3gxPPhHxGX",
        "outputId": "2033dff2-6662-437a-d813-74033ed1bc91"
      },
      "execution_count": 21,
      "outputs": [
        {
          "output_type": "stream",
          "name": "stdout",
          "text": [
            "The number is Odd\n"
          ]
        }
      ]
    },
    {
      "cell_type": "code",
      "source": [
        "def sum_all(*args):\n",
        "    return sum(args)\n",
        "\n",
        "total = sum_all(1, 2, 3, 4, 5,2,3,51,)\n",
        "print(\"Total sum:\", total)\n"
      ],
      "metadata": {
        "colab": {
          "base_uri": "https://localhost:8080/"
        },
        "id": "OEQQ1iCwIWst",
        "outputId": "a57f229a-40fd-4cad-e467-7429926bcf02"
      },
      "execution_count": 28,
      "outputs": [
        {
          "output_type": "stream",
          "name": "stdout",
          "text": [
            "Total sum: 71\n"
          ]
        }
      ]
    },
    {
      "cell_type": "code",
      "source": [
        "square = lambda x,y,r,t: (x * y)+(r+t)\n",
        "result = square(5,2,4,3)\n",
        "print(\"Square:\", result)\n"
      ],
      "metadata": {
        "colab": {
          "base_uri": "https://localhost:8080/"
        },
        "id": "QSrM93naIjzS",
        "outputId": "7e622554-8cf6-407d-a091-51d835618f2e"
      },
      "execution_count": 31,
      "outputs": [
        {
          "output_type": "stream",
          "name": "stdout",
          "text": [
            "Square: 17\n"
          ]
        }
      ]
    },
    {
      "cell_type": "code",
      "source": [
        "def person_details(**kwargs):\n",
        "    for key, value in kwargs.items():\n",
        "        print(f\"{key}: {value}\")\n",
        "\n",
        "person_details(name=\"John\", age=30, location=\"New York\")\n"
      ],
      "metadata": {
        "colab": {
          "base_uri": "https://localhost:8080/"
        },
        "id": "N1KB24CBJN6d",
        "outputId": "b07ebd23-9332-4f6c-cb14-9fec562f792e"
      },
      "execution_count": 32,
      "outputs": [
        {
          "output_type": "stream",
          "name": "stdout",
          "text": [
            "name: John\n",
            "age: 30\n",
            "location: New York\n"
          ]
        }
      ]
    },
    {
      "cell_type": "code",
      "source": [
        "def say_hello():\n",
        "  return \" HELLO\"\n",
        "S = say_hello()\n",
        "print(S,\"SHAKEEL\")"
      ],
      "metadata": {
        "colab": {
          "base_uri": "https://localhost:8080/"
        },
        "id": "B2vA1ctEK6Fu",
        "outputId": "431eaf6e-754b-4ade-f131-6f3b9b178259"
      },
      "execution_count": 36,
      "outputs": [
        {
          "output_type": "stream",
          "name": "stdout",
          "text": [
            " HELLO SHAKEEL\n"
          ]
        }
      ]
    },
    {
      "cell_type": "code",
      "source": [
        "def isprime(n):\n",
        "  if n < 2 :\n",
        "    return False\n",
        "  if n == 2 or n== 3:\n",
        "    return True\n",
        "\n",
        "  for i in range (2,n):\n",
        "    if n % i == 0:\n",
        "      return False\n",
        "  else:\n",
        "    return True\n",
        "\n",
        "result = isprime(53)\n",
        "print(result)\n"
      ],
      "metadata": {
        "colab": {
          "base_uri": "https://localhost:8080/"
        },
        "id": "MtLJTaAbLaxj",
        "outputId": "de4b50ad-355f-4047-afac-3be8aff16b37"
      },
      "execution_count": 41,
      "outputs": [
        {
          "output_type": "stream",
          "name": "stdout",
          "text": [
            "True\n"
          ]
        }
      ]
    },
    {
      "cell_type": "code",
      "source": [
        "def average(*args):\n",
        "  return (sum(args)/len(args))\n",
        "\n",
        "result= average(10,10,10)\n",
        "print(int(result))\n",
        "del max"
      ],
      "metadata": {
        "colab": {
          "base_uri": "https://localhost:8080/"
        },
        "id": "ZCneX5KWNCnv",
        "outputId": "6bf6ab04-178b-4c86-fa73-9d8a0229b5d7"
      },
      "execution_count": 49,
      "outputs": [
        {
          "output_type": "stream",
          "name": "stdout",
          "text": [
            "10\n"
          ]
        }
      ]
    },
    {
      "cell_type": "code",
      "source": [
        "max1 = lambda x, y, z: max(x, y, z)\n",
        "result = max1(4, 5, 6)\n",
        "print(result)\n"
      ],
      "metadata": {
        "colab": {
          "base_uri": "https://localhost:8080/"
        },
        "id": "uGB8sA4fNdyz",
        "outputId": "f46d56dc-f083-4e70-d35b-289b564ac93b"
      },
      "execution_count": 50,
      "outputs": [
        {
          "output_type": "stream",
          "name": "stdout",
          "text": [
            "6\n"
          ]
        }
      ]
    },
    {
      "cell_type": "code",
      "source": [],
      "metadata": {
        "id": "NRmJwPftN_6A"
      },
      "execution_count": null,
      "outputs": []
    }
  ]
}