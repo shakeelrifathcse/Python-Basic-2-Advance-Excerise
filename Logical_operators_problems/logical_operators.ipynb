{
  "nbformat": 4,
  "nbformat_minor": 0,
  "metadata": {
    "colab": {
      "provenance": [],
      "authorship_tag": "ABX9TyPzvHRDCn8chBbTcZPUX6g2",
      "include_colab_link": true
    },
    "kernelspec": {
      "name": "python3",
      "display_name": "Python 3"
    },
    "language_info": {
      "name": "python"
    }
  },
  "cells": [
    {
      "cell_type": "markdown",
      "metadata": {
        "id": "view-in-github",
        "colab_type": "text"
      },
      "source": [
        "<a href=\"https://colab.research.google.com/github/shakeelrifathcse/Python-Basic-2-Advance-Excerise/blob/main/Logical_operators_problems/logical_operators.ipynb\" target=\"_parent\"><img src=\"https://colab.research.google.com/assets/colab-badge.svg\" alt=\"Open In Colab\"/></a>"
      ]
    },
    {
      "cell_type": "code",
      "execution_count": null,
      "metadata": {
        "id": "k4MoD2PJEVg8"
      },
      "outputs": [],
      "source": []
    },
    {
      "cell_type": "markdown",
      "source": [
        "### Basic Level Practice Questions"
      ],
      "metadata": {
        "id": "LtCkN6eYErh0"
      }
    },
    {
      "cell_type": "markdown",
      "source": [
        "Write a Python program that checks if both x and y are greater than 10."
      ],
      "metadata": {
        "id": "Dvw-8u4LEtiO"
      }
    },
    {
      "cell_type": "code",
      "source": [
        "x=11\n",
        "y=11\n",
        "if x>11 and y>11:\n",
        "    print(\"True\")\n",
        "else:\n",
        "  print(\"false\")"
      ],
      "metadata": {
        "colab": {
          "base_uri": "https://localhost:8080/"
        },
        "id": "DgWQalpcExAe",
        "outputId": "507430e9-d96d-4eb5-b6e7-7364b374dbd3"
      },
      "execution_count": null,
      "outputs": [
        {
          "output_type": "stream",
          "name": "stdout",
          "text": [
            "false\n"
          ]
        }
      ]
    },
    {
      "cell_type": "markdown",
      "source": [
        "Check if either a is equal to b or c is equal to d"
      ],
      "metadata": {
        "id": "gpLr6DrBFqfn"
      }
    },
    {
      "cell_type": "code",
      "source": [
        "a=10\n",
        "b=10\n",
        "c=12\n",
        "d=15\n",
        "if a==b:\n",
        "  print(\"A==B\")\n",
        "elif c==d:\n",
        "  print(\"c==d\")\n",
        "else:\n",
        "  print(\"false\")\n"
      ],
      "metadata": {
        "colab": {
          "base_uri": "https://localhost:8080/"
        },
        "id": "SCn7BGgWGcC0",
        "outputId": "af21ebd6-d152-4538-be66-6bf62417a95a"
      },
      "execution_count": null,
      "outputs": [
        {
          "output_type": "stream",
          "name": "stdout",
          "text": [
            "True\n"
          ]
        }
      ]
    },
    {
      "cell_type": "markdown",
      "source": [
        "Write a Python program that checks if a number num is less than 100 and greater than 50.\n"
      ],
      "metadata": {
        "id": "DlBZCUUPI9WY"
      }
    },
    {
      "cell_type": "code",
      "source": [
        "num = 55\n",
        "if num > 50 and num < 100:\n",
        "  print(\"True\")\n",
        "else:\n",
        "  print(\"false\")"
      ],
      "metadata": {
        "colab": {
          "base_uri": "https://localhost:8080/"
        },
        "id": "ciQT88GzG-pC",
        "outputId": "9bf868ef-fb52-4f1c-8e62-b9ea50f25f60"
      },
      "execution_count": null,
      "outputs": [
        {
          "output_type": "stream",
          "name": "stdout",
          "text": [
            "True\n"
          ]
        }
      ]
    },
    {
      "cell_type": "markdown",
      "source": [
        "Write a Python program that checks if a person is eligible for voting based on their age. The voting age is 18 years or older\n"
      ],
      "metadata": {
        "id": "69IXR-XpIxjy"
      }
    },
    {
      "cell_type": "code",
      "source": [
        "age= 19\n",
        "if age>=18:\n",
        "  print(\"eligibility\")\n",
        "else:\n",
        "  print(\"NO\")"
      ],
      "metadata": {
        "colab": {
          "base_uri": "https://localhost:8080/"
        },
        "id": "Y5ZyEXJOJC5q",
        "outputId": "ede78a5a-917d-4416-a291-6df121eea566"
      },
      "execution_count": null,
      "outputs": [
        {
          "output_type": "stream",
          "name": "stdout",
          "text": [
            "eligibility\n"
          ]
        }
      ]
    },
    {
      "cell_type": "markdown",
      "source": [
        "Write a Python program that checks if a given string s contains both the characters 'a' and 'b'."
      ],
      "metadata": {
        "id": "3n1x3vMXKhXi"
      }
    },
    {
      "cell_type": "code",
      "source": [
        "s=\"abcdefghi\"\n",
        "if 'a' in s and 'b' in s:\n",
        "  print(\"True\")\n",
        "else:\n",
        "  print(\"False\")"
      ],
      "metadata": {
        "colab": {
          "base_uri": "https://localhost:8080/"
        },
        "id": "bid50ua1JPaZ",
        "outputId": "80b329eb-3b96-40c0-b6cf-16ebd321c07a"
      },
      "execution_count": null,
      "outputs": [
        {
          "output_type": "stream",
          "name": "stdout",
          "text": [
            "True\n"
          ]
        }
      ]
    },
    {
      "cell_type": "markdown",
      "source": [
        "### Intermediate Level Practice Question"
      ],
      "metadata": {
        "id": "JEpSRicVKaFW"
      }
    },
    {
      "cell_type": "markdown",
      "source": [
        "Write a Python function is_divisible(n) that returns True if a number n is divisible by both 3 and 5, otherwise return False."
      ],
      "metadata": {
        "id": "L7smkm9LKrkX"
      }
    },
    {
      "cell_type": "code",
      "source": [
        "def is_divisible(n):\n",
        "  if n%3==0 and n%5==0:\n",
        "    return True\n",
        "  else:\n",
        "    return False"
      ],
      "metadata": {
        "id": "yBZVqS0CKvHA"
      },
      "execution_count": null,
      "outputs": []
    },
    {
      "cell_type": "code",
      "source": [
        "# Example test\n",
        "print(is_divisible(30))"
      ],
      "metadata": {
        "colab": {
          "base_uri": "https://localhost:8080/"
        },
        "id": "6Yb18fJMLDRJ",
        "outputId": "babd9cdb-938b-4e06-a577-3d4544b87a28"
      },
      "execution_count": null,
      "outputs": [
        {
          "output_type": "stream",
          "name": "stdout",
          "text": [
            "True\n"
          ]
        }
      ]
    },
    {
      "cell_type": "markdown",
      "source": [
        "Write a Python function is_in_range(n) that returns True if a number n is between 20 and 50 (inclusive), otherwise return False."
      ],
      "metadata": {
        "id": "WB4nCoZaLEPV"
      }
    },
    {
      "cell_type": "code",
      "source": [
        "def is_in_range(n):\n",
        "    return 20 <= n <= 50\n",
        "\n",
        "# Example test\n",
        "print(is_in_range(30))  # Output: True\n"
      ],
      "metadata": {
        "colab": {
          "base_uri": "https://localhost:8080/"
        },
        "id": "7LMAuly5L4ka",
        "outputId": "3d0ed1e2-d15d-4b1e-eb07-9084edffc2df"
      },
      "execution_count": null,
      "outputs": [
        {
          "output_type": "stream",
          "name": "stdout",
          "text": [
            "True\n"
          ]
        }
      ]
    },
    {
      "cell_type": "markdown",
      "source": [
        "Check leap yr"
      ],
      "metadata": {
        "id": "Yms8I1oASEtI"
      }
    },
    {
      "cell_type": "code",
      "source": [
        "def is_leap_year(year):\n",
        "  if year%400==0:\n",
        "    return True\n",
        "  elif year %100==0:\n",
        "    return True\n",
        "  elif year%4==0:\n",
        "    return True\n",
        "  else:\n",
        "    return False\n",
        "is_leap_year(2000)"
      ],
      "metadata": {
        "colab": {
          "base_uri": "https://localhost:8080/"
        },
        "id": "1K7MDttAOQ6q",
        "outputId": "0ac7f7b5-f429-4068-a03a-6da16e07f28e"
      },
      "execution_count": null,
      "outputs": [
        {
          "output_type": "execute_result",
          "data": {
            "text/plain": [
              "True"
            ]
          },
          "metadata": {},
          "execution_count": 30
        }
      ]
    },
    {
      "cell_type": "markdown",
      "source": [
        "string finding"
      ],
      "metadata": {
        "id": "3oKiq6puSLLR"
      }
    },
    {
      "cell_type": "code",
      "source": [
        "def contains_words(sen):\n",
        "  if \"python\" in sen and 'programming'in sen:\n",
        "    return True\n",
        "  else:\n",
        "    return False\n"
      ],
      "metadata": {
        "id": "OO21CElEO2WM"
      },
      "execution_count": null,
      "outputs": []
    },
    {
      "cell_type": "code",
      "source": [
        "contains_words(\"i love python programming\")"
      ],
      "metadata": {
        "colab": {
          "base_uri": "https://localhost:8080/"
        },
        "id": "cjZ65QtWRS1L",
        "outputId": "dba5e22c-239a-456b-8b58-b7f54f47d372"
      },
      "execution_count": null,
      "outputs": [
        {
          "output_type": "execute_result",
          "data": {
            "text/plain": [
              "True"
            ]
          },
          "metadata": {},
          "execution_count": 39
        }
      ]
    },
    {
      "cell_type": "markdown",
      "source": [
        "Write a Python function is_right_angled(a, b, c) that checks if a triangle with sides a, b, and c is a right-angled triangle."
      ],
      "metadata": {
        "id": "RnLnGOMGRYY_"
      }
    },
    {
      "cell_type": "code",
      "source": [
        "def check_triangle(a,b,c):\n",
        "  x=a**2\n",
        "  y=b**2\n",
        "  z=c**2\n",
        "  if x+y==z:\n",
        "    return True\n",
        "  else:\n",
        "    return False"
      ],
      "metadata": {
        "id": "vEhBZQDvSiCF"
      },
      "execution_count": null,
      "outputs": []
    },
    {
      "cell_type": "code",
      "source": [
        "check_triangle(12,13,5)"
      ],
      "metadata": {
        "colab": {
          "base_uri": "https://localhost:8080/"
        },
        "id": "eGxnqOgNTQOD",
        "outputId": "826d5b01-cbfe-40e5-d54e-b8c6f8155cde"
      },
      "execution_count": null,
      "outputs": [
        {
          "output_type": "execute_result",
          "data": {
            "text/plain": [
              "False"
            ]
          },
          "metadata": {},
          "execution_count": 46
        }
      ]
    },
    {
      "cell_type": "code",
      "source": [
        "def check_triangle(a, b, c):\n",
        "    # Sort the sides to ensure the largest side is treated as the hypotenuse\n",
        "    x,y,z = sorted([a, b, c])\n",
        "    return x**2 + y**2 == z**2\n",
        "\n",
        "# Example tests\n",
        "print(check_triangle(3, 4, 5))   # Output: True\n",
        "print(check_triangle(13,12,5)) # Output: True\n",
        "print(check_triangle(8, 15, 17)) # Output: True\n",
        "print(check_triangle(6, 8, 10))  # Output: True\n",
        "print(check_triangle(7, 24, 25)) # Output: True\n",
        "print(check_triangle(1, 1, 1))   # Output: False\n"
      ],
      "metadata": {
        "colab": {
          "base_uri": "https://localhost:8080/"
        },
        "id": "EUEIsv7cTTsK",
        "outputId": "46ab7157-90a7-4ae4-bd97-043110568cf2"
      },
      "execution_count": null,
      "outputs": [
        {
          "output_type": "stream",
          "name": "stdout",
          "text": [
            "True\n",
            "True\n",
            "True\n",
            "True\n",
            "True\n",
            "False\n"
          ]
        }
      ]
    },
    {
      "cell_type": "markdown",
      "source": [
        "\n",
        "\n",
        "Write a Python function find_quadrant(x, y) that determines the quadrant of a point (x, y) in a 2D coordinate system"
      ],
      "metadata": {
        "id": "kO2kEwCjUfFo"
      }
    },
    {
      "cell_type": "code",
      "source": [
        "def find_quadrant(x,y):\n",
        "  if x==0 or y ==0:\n",
        "    return \"on axis\"\n",
        "  elif x < 0 and y > 0:\n",
        "    return \"Sec qua\"\n",
        "  elif x < 0 and y < 0:\n",
        "    return 'third qua'\n",
        "  elif x > 0 and y < 0:\n",
        "    return \"fourth qua\"\n",
        "  elif x > 0 and y > 0:\n",
        "    return \"First qua\"\n",
        "\n",
        "print(find_quadrant(10, -5))\n",
        "\n",
        "print(find_quadrant(0, 3))"
      ],
      "metadata": {
        "colab": {
          "base_uri": "https://localhost:8080/"
        },
        "id": "GObJ-gqnKrJN",
        "outputId": "91844a2d-8ab0-4e98-f7ec-d35d4e494767"
      },
      "execution_count": 11,
      "outputs": [
        {
          "output_type": "stream",
          "name": "stdout",
          "text": [
            "fourth qua\n",
            "on axis\n"
          ]
        }
      ]
    },
    {
      "cell_type": "markdown",
      "source": [
        "Write a Python function triangle_type(a, b, c) that determines the type of triangle based on its side lengths"
      ],
      "metadata": {
        "id": "R7g7i0W-LVJc"
      }
    },
    {
      "cell_type": "code",
      "source": [
        "def triangle_type(a, b, c):\n",
        "    if a + b <= c or b + c <= a or c + a <= b:\n",
        "        return \"Not a Triangle\"\n",
        "    elif a == b == c:\n",
        "        return \"Equilateral\"\n",
        "    elif a == b or b == c or a == c:\n",
        "        return \"Isosceles\"\n",
        "    else:\n",
        "        return \"Scalene\"\n",
        "\n",
        "# Example tests\n",
        "print(triangle_type(5, 5, 5))  # Output: \"Equilateral\"\n",
        "print(triangle_type(5, 5, 8))  # Output: \"Isosceles\"\n",
        "print(triangle_type(3, 4, 5))  # Output: \"Scalene\"\n",
        "print(triangle_type(1, 2, 3))  # Output: \"Not a Triangle\"\n",
        "print(triangle_type(7, 10, 5)) # Output: \"Scalene\"\n"
      ],
      "metadata": {
        "colab": {
          "base_uri": "https://localhost:8080/"
        },
        "id": "e8KuM0_wLznw",
        "outputId": "699efef5-8ed2-4606-db80-fcef75fbf279"
      },
      "execution_count": 33,
      "outputs": [
        {
          "output_type": "stream",
          "name": "stdout",
          "text": [
            "Equilateral\n",
            "Isosceles\n",
            "Scalene\n",
            "Not a Triangle\n",
            "Scalene\n"
          ]
        }
      ]
    },
    {
      "cell_type": "code",
      "source": [
        "triangle_type(5, 5, 5)  # Output: \"Equilateral\"\n",
        "triangle_type(5, 5, 8)  # Output: \"Isosceles\"\n",
        "triangle_type(3, 4, 5)  # Output: \"Scalene\"\n",
        "triangle_type(1, 2, 3)  # Output: \"Not a Triangle\"\n",
        "\n",
        "\n"
      ],
      "metadata": {
        "colab": {
          "base_uri": "https://localhost:8080/",
          "height": 35
        },
        "id": "TAhSCbNGM7wl",
        "outputId": "2fab5e41-6946-4332-9efa-27767218e5f3"
      },
      "execution_count": 35,
      "outputs": [
        {
          "output_type": "execute_result",
          "data": {
            "text/plain": [
              "'Not a Triangle'"
            ],
            "application/vnd.google.colaboratory.intrinsic+json": {
              "type": "string"
            }
          },
          "metadata": {},
          "execution_count": 35
        }
      ]
    },
    {
      "cell_type": "code",
      "source": [],
      "metadata": {
        "colab": {
          "base_uri": "https://localhost:8080/"
        },
        "id": "LGkN82i-M8-S",
        "outputId": "7ef71460-febe-45a5-a398-9378d338f82a"
      },
      "execution_count": 32,
      "outputs": [
        {
          "output_type": "stream",
          "name": "stdout",
          "text": [
            "x is less than 10\n"
          ]
        }
      ]
    },
    {
      "cell_type": "markdown",
      "source": [
        "\n",
        "Write a Python function classify_number(n) that classifies a given integer as follows:"
      ],
      "metadata": {
        "id": "4i4r3rj3QIOD"
      }
    },
    {
      "cell_type": "code",
      "source": [
        "def classify_number(n):\n",
        "  if n==0:\n",
        "    return \"Zero\"\n",
        "  elif n>0:\n",
        "    if n%2==0:\n",
        "      return \"Positive Even\"\n",
        "    else:\n",
        "      return \"Positive odd\"\n",
        "  elif n<0:\n",
        "    if n%2==0:\n",
        "      return \"Negative Even\"\n",
        "    else:\n",
        "      return \"Negative Odd\""
      ],
      "metadata": {
        "id": "uqiL2UrbRAyP"
      },
      "execution_count": 36,
      "outputs": []
    },
    {
      "cell_type": "code",
      "source": [
        "print(classify_number(4))   # Output: \"Positive Even\"\n",
        "print(classify_number(-100))  # Output: \"Negative Odd\"\n",
        "print(classify_number(0))   # Output: \"Zero\"\n",
        "print(classify_number(-10)) # Output: \"Negative Even\"\n",
        "print(classify_number(7))   # Output: \"Positive Odd\""
      ],
      "metadata": {
        "colab": {
          "base_uri": "https://localhost:8080/"
        },
        "id": "bqt0MsP1R5Mf",
        "outputId": "f379ba25-6b6f-4638-93cb-9fb225871baa"
      },
      "execution_count": 38,
      "outputs": [
        {
          "output_type": "stream",
          "name": "stdout",
          "text": [
            "Positive Even\n",
            "Negative Even\n",
            "Zero\n",
            "Negative Even\n",
            "Positive odd\n"
          ]
        }
      ]
    },
    {
      "cell_type": "code",
      "source": [],
      "metadata": {
        "id": "ob-oX0cVR5_r"
      },
      "execution_count": null,
      "outputs": []
    }
  ]
}