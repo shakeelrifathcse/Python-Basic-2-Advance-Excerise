{
  "nbformat": 4,
  "nbformat_minor": 0,
  "metadata": {
    "colab": {
      "provenance": [],
      "gpuType": "T4",
      "authorship_tag": "ABX9TyO77tK3REeKyqkRP3uYLUvj",
      "include_colab_link": true
    },
    "kernelspec": {
      "name": "python3",
      "display_name": "Python 3"
    },
    "language_info": {
      "name": "python"
    },
    "accelerator": "GPU"
  },
  "cells": [
    {
      "cell_type": "markdown",
      "metadata": {
        "id": "view-in-github",
        "colab_type": "text"
      },
      "source": [
        "<a href=\"https://colab.research.google.com/github/shakeelrifathcse/Python-Basic-2-Advance-Excerise/blob/main/python_control_flow_statements/control_flow_statements.ipynb\" target=\"_parent\"><img src=\"https://colab.research.google.com/assets/colab-badge.svg\" alt=\"Open In Colab\"/></a>"
      ]
    },
    {
      "cell_type": "markdown",
      "source": [
        "In Python, control flow statements allow you to control the execution order of your code. Here are the four main ones:\n",
        "1. break:\n",
        "Used inside loops (like for and while) to immediately terminate the loop.\n",
        "Execution continues with the next statement after the loop.\n",
        "2. continue:\n",
        "Used inside loops to skip the rest of the current iteration and move to the next one.\n",
        "3. pass:\n",
        "A placeholder statement that does nothing.\n",
        "Used when a statement is syntactically required, but no action is needed.\n",
        "4. return:\n",
        "Used in functions to exit the function and return a value to the caller."
      ],
      "metadata": {
        "id": "h052QykdMErW"
      }
    },
    {
      "cell_type": "code",
      "source": [
        "for i in range(10):\n",
        "    if i == 5:\n",
        "        break  # Exit the loop when i equals 5\n",
        "    print(i)"
      ],
      "metadata": {
        "colab": {
          "base_uri": "https://localhost:8080/"
        },
        "id": "VGI41fyeMSfx",
        "outputId": "24912743-e58d-4a40-b2cc-b658d6875a4e"
      },
      "execution_count": 1,
      "outputs": [
        {
          "output_type": "stream",
          "name": "stdout",
          "text": [
            "0\n",
            "1\n",
            "2\n",
            "3\n",
            "4\n"
          ]
        }
      ]
    },
    {
      "cell_type": "code",
      "source": [
        "for i in range(10):\n",
        "    if i % 2 == 0:\n",
        "        continue  # Skip even numbers\n",
        "    print(i)"
      ],
      "metadata": {
        "colab": {
          "base_uri": "https://localhost:8080/"
        },
        "id": "79KL734JMUkR",
        "outputId": "751fcff6-84be-4d43-d0ff-670139a3789b"
      },
      "execution_count": 2,
      "outputs": [
        {
          "output_type": "stream",
          "name": "stdout",
          "text": [
            "1\n",
            "3\n",
            "5\n",
            "7\n",
            "9\n"
          ]
        }
      ]
    },
    {
      "cell_type": "code",
      "source": [
        "def my_function():\n",
        "    pass  # Function does nothing for now"
      ],
      "metadata": {
        "id": "oebf2MKQMVkY"
      },
      "execution_count": 3,
      "outputs": []
    },
    {
      "cell_type": "code",
      "source": [
        "def add(x, y):\n",
        "    return x + y\n",
        "\n",
        "result = add(5, 3)\n",
        "print(result)"
      ],
      "metadata": {
        "colab": {
          "base_uri": "https://localhost:8080/"
        },
        "id": "33X8rRMCMX9h",
        "outputId": "d9216ea6-3a9d-4254-b7ef-861c5d45f649"
      },
      "execution_count": 4,
      "outputs": [
        {
          "output_type": "stream",
          "name": "stdout",
          "text": [
            "8\n"
          ]
        }
      ]
    },
    {
      "cell_type": "code",
      "source": [],
      "metadata": {
        "id": "9K5MBSgUMZsa"
      },
      "execution_count": null,
      "outputs": []
    }
  ]
}