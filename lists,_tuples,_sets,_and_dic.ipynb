{
  "nbformat": 4,
  "nbformat_minor": 0,
  "metadata": {
    "colab": {
      "provenance": [],
      "authorship_tag": "ABX9TyNlEeEesbirl+70gTkS/kiU",
      "include_colab_link": true
    },
    "kernelspec": {
      "name": "python3",
      "display_name": "Python 3"
    },
    "language_info": {
      "name": "python"
    }
  },
  "cells": [
    {
      "cell_type": "markdown",
      "metadata": {
        "id": "view-in-github",
        "colab_type": "text"
      },
      "source": [
        "<a href=\"https://colab.research.google.com/github/shakeelrifathcse/Python-Basic-2-Advance-Excerise/blob/main/lists%2C_tuples%2C_sets%2C_and_dic.ipynb\" target=\"_parent\"><img src=\"https://colab.research.google.com/assets/colab-badge.svg\" alt=\"Open In Colab\"/></a>"
      ]
    },
    {
      "cell_type": "markdown",
      "source": [
        "**Basic Operations [list]**\n",
        "\n",
        "Create a list of integers from 1 to 10. Print the list.\n",
        "\n",
        "Append the number 11 to the list. Print the updated list.\n",
        "\n",
        "Insert the number 5.5 between 5 and 6. Print the updated list.\n",
        "\n",
        "Remove the last element from the list. Print the updated list.\n",
        "\n",
        "Reverse the list. Print the reversed list."
      ],
      "metadata": {
        "id": "XmECsstRhDRE"
      }
    },
    {
      "cell_type": "code",
      "source": [
        "l = [1,2,3,4,5,6,7,8,9,10]\n",
        "print(l)"
      ],
      "metadata": {
        "colab": {
          "base_uri": "https://localhost:8080/"
        },
        "id": "F8Y7AjlJhOhK",
        "outputId": "9c9ba808-9e1d-40c1-c3c6-26a1281062af"
      },
      "execution_count": 1,
      "outputs": [
        {
          "output_type": "stream",
          "name": "stdout",
          "text": [
            "[1, 2, 3, 4, 5, 6, 7, 8, 9, 10]\n"
          ]
        }
      ]
    },
    {
      "cell_type": "code",
      "source": [
        "l.append(11)\n",
        "print(l)"
      ],
      "metadata": {
        "colab": {
          "base_uri": "https://localhost:8080/"
        },
        "id": "yLY7qUsehUvJ",
        "outputId": "b683731a-ac93-485d-ff82-1f3b7a0f0cf5"
      },
      "execution_count": 2,
      "outputs": [
        {
          "output_type": "stream",
          "name": "stdout",
          "text": [
            "[1, 2, 3, 4, 5, 6, 7, 8, 9, 10, 11]\n"
          ]
        }
      ]
    },
    {
      "cell_type": "code",
      "source": [
        "l.insert(5,5.5)\n",
        "print(l)"
      ],
      "metadata": {
        "colab": {
          "base_uri": "https://localhost:8080/"
        },
        "id": "znVI-mu8hcmy",
        "outputId": "ee27c954-e033-4a5e-ccc3-a1ac11aad3c8"
      },
      "execution_count": 3,
      "outputs": [
        {
          "output_type": "stream",
          "name": "stdout",
          "text": [
            "[1, 2, 3, 4, 5, 5.5, 6, 7, 8, 9, 10, 11]\n"
          ]
        }
      ]
    },
    {
      "cell_type": "code",
      "source": [
        "l.remove(11)\n",
        "print(l)"
      ],
      "metadata": {
        "colab": {
          "base_uri": "https://localhost:8080/"
        },
        "id": "J7Y3z93IhyXY",
        "outputId": "fc26d7f5-3906-4122-cf09-c095d7c67f3d"
      },
      "execution_count": 4,
      "outputs": [
        {
          "output_type": "stream",
          "name": "stdout",
          "text": [
            "[1, 2, 3, 4, 5, 5.5, 6, 7, 8, 9, 10]\n"
          ]
        }
      ]
    },
    {
      "cell_type": "code",
      "source": [
        "l.pop(-1)\n",
        "print(l)"
      ],
      "metadata": {
        "colab": {
          "base_uri": "https://localhost:8080/"
        },
        "id": "rscQeobyh97a",
        "outputId": "a03f0346-a807-424f-d3cc-7b3821032a45"
      },
      "execution_count": 5,
      "outputs": [
        {
          "output_type": "stream",
          "name": "stdout",
          "text": [
            "[1, 2, 3, 4, 5, 5.5, 6, 7, 8, 9]\n"
          ]
        }
      ]
    },
    {
      "cell_type": "code",
      "source": [
        "l.reverse()\n",
        "print(l)"
      ],
      "metadata": {
        "colab": {
          "base_uri": "https://localhost:8080/"
        },
        "id": "GOChNYsxiDkd",
        "outputId": "e819b7d6-1717-495f-9119-477171c97337"
      },
      "execution_count": 6,
      "outputs": [
        {
          "output_type": "stream",
          "name": "stdout",
          "text": [
            "[9, 8, 7, 6, 5.5, 5, 4, 3, 2, 1]\n"
          ]
        }
      ]
    },
    {
      "cell_type": "code",
      "source": [
        "l.append(4)\n",
        "print(l)"
      ],
      "metadata": {
        "colab": {
          "base_uri": "https://localhost:8080/"
        },
        "id": "8HWj9j2xiP1s",
        "outputId": "bb34d01e-fff5-403c-f086-95290bc56598"
      },
      "execution_count": 7,
      "outputs": [
        {
          "output_type": "stream",
          "name": "stdout",
          "text": [
            "[9, 8, 7, 6, 5.5, 5, 4, 3, 2, 1, 4]\n"
          ]
        }
      ]
    },
    {
      "cell_type": "code",
      "source": [
        "total = sum(list)\n",
        "total\n"
      ],
      "metadata": {
        "colab": {
          "base_uri": "https://localhost:8080/"
        },
        "id": "kQi-oUonjig1",
        "outputId": "e83223d7-8fd4-4633-ea01-3af599a53f6c"
      },
      "execution_count": 11,
      "outputs": [
        {
          "output_type": "execute_result",
          "data": {
            "text/plain": [
              "54.5"
            ]
          },
          "metadata": {},
          "execution_count": 11
        }
      ]
    },
    {
      "cell_type": "code",
      "source": [
        "if 3 in list:\n",
        "  print(True)\n",
        "else:\n",
        "  print(False)"
      ],
      "metadata": {
        "colab": {
          "base_uri": "https://localhost:8080/"
        },
        "id": "_ZK3Wlqyj0T4",
        "outputId": "ce49bcdb-390c-4244-e185-06b26b37ec29"
      },
      "execution_count": 19,
      "outputs": [
        {
          "output_type": "stream",
          "name": "stdout",
          "text": [
            "True\n"
          ]
        }
      ]
    },
    {
      "cell_type": "code",
      "source": [
        "l.reverse()\n",
        "l\n"
      ],
      "metadata": {
        "colab": {
          "base_uri": "https://localhost:8080/"
        },
        "id": "LOjDEF8_kLvE",
        "outputId": "68007473-cc7e-4d7a-edce-2ba5eefbb3ec"
      },
      "execution_count": 22,
      "outputs": [
        {
          "output_type": "execute_result",
          "data": {
            "text/plain": [
              "[9, 8, 7, 6, 5.5, 5, 4, 3, 2, 1, 4]"
            ]
          },
          "metadata": {},
          "execution_count": 22
        }
      ]
    },
    {
      "cell_type": "code",
      "source": [
        "l.reverse()\n",
        "print(l)"
      ],
      "metadata": {
        "colab": {
          "base_uri": "https://localhost:8080/"
        },
        "id": "apE2tpM6lfHF",
        "outputId": "57b2aaae-8921-4375-d936-5dbf056bdfe4"
      },
      "execution_count": 24,
      "outputs": [
        {
          "output_type": "stream",
          "name": "stdout",
          "text": [
            "[4, 1, 2, 3, 4, 5, 5.5, 6, 7, 8, 9]\n"
          ]
        }
      ]
    },
    {
      "cell_type": "markdown",
      "source": [
        "List Slicing\n",
        "\n",
        "Given a list numbers = [1, 2, 3, 4, 5, 6, 7, 8, 9, 10], extract the sublist [4, 5, 6].\n",
        "\n",
        "\n",
        "Print every second element in the list.\n",
        "\n",
        "Print the last three elements of the list."
      ],
      "metadata": {
        "id": "2L0FqrktljGR"
      }
    },
    {
      "cell_type": "code",
      "source": [
        "listt = [1,2,3,4,5,6]\n",
        "sliced = listt[0:2]\n",
        "print(sliced)"
      ],
      "metadata": {
        "colab": {
          "base_uri": "https://localhost:8080/"
        },
        "id": "e6p3-DdJlylt",
        "outputId": "de615ffe-41ad-4117-e4e9-c00976bf1e7f"
      },
      "execution_count": 27,
      "outputs": [
        {
          "output_type": "stream",
          "name": "stdout",
          "text": [
            "[1, 2]\n"
          ]
        }
      ]
    },
    {
      "cell_type": "code",
      "source": [
        "secondno = listt[1:-1:2]\n",
        "secondno"
      ],
      "metadata": {
        "colab": {
          "base_uri": "https://localhost:8080/"
        },
        "id": "9okDHvs5l9pF",
        "outputId": "b6049a7f-4459-4373-8fe0-6960a1823f95"
      },
      "execution_count": 36,
      "outputs": [
        {
          "output_type": "execute_result",
          "data": {
            "text/plain": [
              "[2, 4]"
            ]
          },
          "metadata": {},
          "execution_count": 36
        }
      ]
    },
    {
      "cell_type": "code",
      "source": [
        "\n",
        "last3= listt[3:]\n",
        "print(last3)"
      ],
      "metadata": {
        "colab": {
          "base_uri": "https://localhost:8080/"
        },
        "id": "M4yRebutmLbT",
        "outputId": "419a89e1-5e34-4c27-8787-559fad095897"
      },
      "execution_count": 41,
      "outputs": [
        {
          "output_type": "stream",
          "name": "stdout",
          "text": [
            "[4, 5, 6]\n"
          ]
        }
      ]
    },
    {
      "cell_type": "markdown",
      "source": [
        "List Comprehension\n",
        "\n",
        "Create a list of squares for the numbers 1 to 10 using list comprehension.\n",
        "\n",
        "Filter out all even numbers from the list [1, 2, 3, 4, 5, 6, 7, 8, 9, 10] using list comprehension.\n",
        "\n"
      ],
      "metadata": {
        "id": "Uk-aRAM7mqNe"
      }
    },
    {
      "cell_type": "code",
      "source": [
        "sq = [i**2 for i in range(1,11)]\n",
        "print(sq)"
      ],
      "metadata": {
        "colab": {
          "base_uri": "https://localhost:8080/"
        },
        "id": "XgLVp1dLnr7s",
        "outputId": "c9b67bcb-6fdb-4920-8696-44e3f0235355"
      },
      "execution_count": 42,
      "outputs": [
        {
          "output_type": "stream",
          "name": "stdout",
          "text": [
            "[1, 4, 9, 16, 25, 36, 49, 64, 81, 100]\n"
          ]
        }
      ]
    },
    {
      "cell_type": "code",
      "source": [
        "oddonly = [i for i in range(1,11)if i%2 != 0]\n",
        "print(oddonly)"
      ],
      "metadata": {
        "colab": {
          "base_uri": "https://localhost:8080/"
        },
        "id": "nURq3aMxoU8G",
        "outputId": "5b378b4b-7508-4329-a2c1-ebd09bd5ca63"
      },
      "execution_count": 45,
      "outputs": [
        {
          "output_type": "stream",
          "name": "stdout",
          "text": [
            "[1, 3, 5, 7, 9]\n"
          ]
        }
      ]
    },
    {
      "cell_type": "markdown",
      "source": [
        "Merge two lists [1, 2, 3] and [4, 5, 6] into one list.\n",
        "Find the sum of all elements in the list [1, 2, 3, 4, 5]."
      ],
      "metadata": {
        "id": "9Uiy-UeAov4T"
      }
    },
    {
      "cell_type": "code",
      "source": [
        "lista=[1,2,3]\n",
        "listb=[4,5,6]\n",
        "listc = lista + listb\n",
        "print(listc)\n",
        "del sum\n"
      ],
      "metadata": {
        "colab": {
          "base_uri": "https://localhost:8080/"
        },
        "id": "vuHufSaXrGJd",
        "outputId": "81fdcae0-f2bb-459d-dfeb-f5e0820458a9"
      },
      "execution_count": 60,
      "outputs": [
        {
          "output_type": "stream",
          "name": "stdout",
          "text": [
            "[1, 2, 3, 4, 5, 6]\n"
          ]
        }
      ]
    },
    {
      "cell_type": "code",
      "source": [
        "import inspect\n",
        "\n",
        "\n"
      ],
      "metadata": {
        "id": "cUvo-BkerqRk"
      },
      "execution_count": 53,
      "outputs": []
    },
    {
      "cell_type": "markdown",
      "source": [
        "Tuples\n",
        "Basic Operations\n",
        "\n",
        "Create a tuple with the elements (1, 2, 3, 4, 5). Print the tuple.\n",
        "\n",
        "Try to modify the second element of the tuple. What happens?\n",
        "\n",
        "Create a new tuple by concatenating (6, 7, 8) to the original tuple."
      ],
      "metadata": {
        "id": "kv-5PpZKsHDN"
      }
    },
    {
      "cell_type": "code",
      "source": [
        "tup = (1,2,3,4,5)\n",
        "tup1=(6,7,8)\n",
        "tup2= tup + tup1\n",
        "print(tup2)\n",
        "print(tup)\n"
      ],
      "metadata": {
        "colab": {
          "base_uri": "https://localhost:8080/"
        },
        "id": "WmVsf8rbsx22",
        "outputId": "3e68635e-9b15-4fcd-f347-b46639fad53e"
      },
      "execution_count": 65,
      "outputs": [
        {
          "output_type": "stream",
          "name": "stdout",
          "text": [
            "(1, 2, 3, 4, 5, 6, 7, 8)\n",
            "(1, 2, 3, 4, 5)\n"
          ]
        }
      ]
    },
    {
      "cell_type": "code",
      "source": [
        "tup.remove(2)"
      ],
      "metadata": {
        "colab": {
          "base_uri": "https://localhost:8080/",
          "height": 145
        },
        "id": "GUOcaccjs1tD",
        "outputId": "d8b7d4e2-4d5f-46bf-94f9-eb92bf7b9262"
      },
      "execution_count": 64,
      "outputs": [
        {
          "output_type": "error",
          "ename": "AttributeError",
          "evalue": "'tuple' object has no attribute 'remove'",
          "traceback": [
            "\u001b[0;31m---------------------------------------------------------------------------\u001b[0m",
            "\u001b[0;31mAttributeError\u001b[0m                            Traceback (most recent call last)",
            "\u001b[0;32m<ipython-input-64-99823bc75f1d>\u001b[0m in \u001b[0;36m<cell line: 1>\u001b[0;34m()\u001b[0m\n\u001b[0;32m----> 1\u001b[0;31m \u001b[0mtup\u001b[0m\u001b[0;34m.\u001b[0m\u001b[0mremove\u001b[0m\u001b[0;34m(\u001b[0m\u001b[0;36m2\u001b[0m\u001b[0;34m)\u001b[0m\u001b[0;34m\u001b[0m\u001b[0;34m\u001b[0m\u001b[0m\n\u001b[0m",
            "\u001b[0;31mAttributeError\u001b[0m: 'tuple' object has no attribute 'remove'"
          ]
        }
      ]
    },
    {
      "cell_type": "code",
      "source": [
        "colors = (\"red\", \"green\", \"blue\")\n",
        "r = colors[0]\n",
        "g = colors[1]\n",
        "b = colors[2]\n",
        "print(r)\n",
        "print(g)\n",
        "print(b)"
      ],
      "metadata": {
        "colab": {
          "base_uri": "https://localhost:8080/"
        },
        "id": "MpnG626Vs6iC",
        "outputId": "0fca9496-291f-4033-cb26-db9fa2b19283"
      },
      "execution_count": 69,
      "outputs": [
        {
          "output_type": "stream",
          "name": "stdout",
          "text": [
            "red\n",
            "green\n",
            "blue\n"
          ]
        }
      ]
    },
    {
      "cell_type": "code",
      "source": [
        "colors[2] = colors[0]"
      ],
      "metadata": {
        "colab": {
          "base_uri": "https://localhost:8080/",
          "height": 145
        },
        "id": "7YceHttjtUC0",
        "outputId": "86275db1-5253-4dd9-df55-6c65324b79fe"
      },
      "execution_count": 70,
      "outputs": [
        {
          "output_type": "error",
          "ename": "TypeError",
          "evalue": "'tuple' object does not support item assignment",
          "traceback": [
            "\u001b[0;31m---------------------------------------------------------------------------\u001b[0m",
            "\u001b[0;31mTypeError\u001b[0m                                 Traceback (most recent call last)",
            "\u001b[0;32m<ipython-input-70-274b5e120d3a>\u001b[0m in \u001b[0;36m<cell line: 1>\u001b[0;34m()\u001b[0m\n\u001b[0;32m----> 1\u001b[0;31m \u001b[0mcolors\u001b[0m\u001b[0;34m[\u001b[0m\u001b[0;36m2\u001b[0m\u001b[0;34m]\u001b[0m\u001b[0;34m=\u001b[0m\u001b[0mcolors\u001b[0m\u001b[0;34m[\u001b[0m\u001b[0;36m0\u001b[0m\u001b[0;34m]\u001b[0m\u001b[0;34m\u001b[0m\u001b[0;34m\u001b[0m\u001b[0m\n\u001b[0m",
            "\u001b[0;31mTypeError\u001b[0m: 'tuple' object does not support item assignment"
          ]
        }
      ]
    },
    {
      "cell_type": "code",
      "source": [
        "# Initial values\n",
        "a = 5\n",
        "b = 10\n",
        "\n",
        "# Swap using tuple unpacking\n",
        "a, b = b, a+b\n",
        "\n",
        "# After swapping\n",
        "print(\"a =\", a)  # Output: a = 10\n",
        "print(\"b =\", b)  # Output: b = 5\n"
      ],
      "metadata": {
        "colab": {
          "base_uri": "https://localhost:8080/"
        },
        "id": "WBu3zLp2uA0U",
        "outputId": "68075ec0-fb12-48ff-d520-57df82ef25e1"
      },
      "execution_count": 72,
      "outputs": [
        {
          "output_type": "stream",
          "name": "stdout",
          "text": [
            "a = 10\n",
            "b = 15\n"
          ]
        }
      ]
    },
    {
      "cell_type": "markdown",
      "source": [
        "Basic Operations\n",
        "\n",
        "Create a dictionary with keys 'name', 'age', and 'city' and corresponding values 'John', 25, and 'New York'.\n",
        "\n",
        "Access the value associated with the key 'name'.\n",
        "\n",
        "Update the value of 'age' to 26."
      ],
      "metadata": {
        "id": "iANLtuDXuUJA"
      }
    },
    {
      "cell_type": "code",
      "source": [
        "dic = {\n",
        "    \"name\":\"shakeel\",\n",
        "    \"age\" : 43\n",
        "}\n",
        "print(dic[\"name\"])"
      ],
      "metadata": {
        "colab": {
          "base_uri": "https://localhost:8080/"
        },
        "id": "2AYc7W-_utxj",
        "outputId": "1f9aa7c0-d5aa-4323-c3ff-915df0e6f580"
      },
      "execution_count": 77,
      "outputs": [
        {
          "output_type": "stream",
          "name": "stdout",
          "text": [
            "shakeel\n"
          ]
        }
      ]
    },
    {
      "cell_type": "code",
      "source": [
        "dic[\"age\"] = 50\n",
        "\n",
        "print(dic[\"age\"])"
      ],
      "metadata": {
        "colab": {
          "base_uri": "https://localhost:8080/"
        },
        "id": "KblIoss-u6WN",
        "outputId": "c5767ea7-516a-4352-875d-c9752746d623"
      },
      "execution_count": 79,
      "outputs": [
        {
          "output_type": "stream",
          "name": "stdout",
          "text": [
            "50\n"
          ]
        }
      ]
    },
    {
      "cell_type": "markdown",
      "source": [
        "Sets\n",
        "Basic Operations\n",
        "\n",
        "Create a set with the elements {1, 2, 3, 4, 5}. Print the set.\n",
        "\n",
        "Add the element 6 to the set.\n",
        "\n",
        "Remove the element 3 from the set. What happens if you try to remove an element that doesn’t exist in the set?"
      ],
      "metadata": {
        "id": "PEHk3YFsvQR3"
      }
    },
    {
      "cell_type": "code",
      "source": [
        "h ={1,2,3,4,5}\n",
        "l =[1,2,3,4,5]\n",
        "print(h)\n",
        "type(h)"
      ],
      "metadata": {
        "colab": {
          "base_uri": "https://localhost:8080/"
        },
        "id": "AJ-11pdZvoQf",
        "outputId": "5c334282-ab86-4f03-f6ee-22635f83d33e"
      },
      "execution_count": 82,
      "outputs": [
        {
          "output_type": "stream",
          "name": "stdout",
          "text": [
            "{1, 2, 3, 4, 5}\n"
          ]
        },
        {
          "output_type": "execute_result",
          "data": {
            "text/plain": [
              "set"
            ]
          },
          "metadata": {},
          "execution_count": 82
        }
      ]
    },
    {
      "cell_type": "code",
      "source": [
        "h.add(6)\n",
        "print(h)\n",
        "h.remove(6)\n",
        "print(h)"
      ],
      "metadata": {
        "colab": {
          "base_uri": "https://localhost:8080/"
        },
        "id": "_3GsBbm2vs0Q",
        "outputId": "711f8c2e-ca94-4436-9ce3-e3118d70f359"
      },
      "execution_count": 88,
      "outputs": [
        {
          "output_type": "stream",
          "name": "stdout",
          "text": [
            "{1, 2, 3, 4, 5, 6}\n",
            "{1, 2, 3, 4, 5}\n"
          ]
        }
      ]
    },
    {
      "cell_type": "code",
      "source": [
        "h.discard(8)"
      ],
      "metadata": {
        "id": "cUkqsGg6vw_n"
      },
      "execution_count": 90,
      "outputs": []
    },
    {
      "cell_type": "code",
      "source": [
        "set1 = {1, 2,2, 3}\n",
        "set2 = { 3,4,4, 5}\n",
        "\n",
        "# Union\n",
        "\n",
        "union_set = set1.union(set2)\n",
        "print(\"Union:\", union_set)\n",
        "\n",
        "# Intersection\n",
        "intersection_set = set1.intersection(set2)\n",
        "print(\"Intersection:\", intersection_set)\n",
        "\n",
        "# Difference\n",
        "difference_set = set1.difference(set2)\n",
        "print(\"Difference:\", difference_set)\n"
      ],
      "metadata": {
        "colab": {
          "base_uri": "https://localhost:8080/"
        },
        "id": "UVxF-YQSwRHj",
        "outputId": "a468a5ef-3c0b-49fc-df25-fda1b6da2398"
      },
      "execution_count": 95,
      "outputs": [
        {
          "output_type": "stream",
          "name": "stdout",
          "text": [
            "Union: {1, 2, 3, 4, 5}\n",
            "Intersection: {3}\n",
            "Difference: {1, 2}\n"
          ]
        }
      ]
    },
    {
      "cell_type": "code",
      "source": [],
      "metadata": {
        "id": "CKTF7B0bwk7v"
      },
      "execution_count": null,
      "outputs": []
    }
  ]
}