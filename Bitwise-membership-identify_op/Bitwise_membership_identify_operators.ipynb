{
  "nbformat": 4,
  "nbformat_minor": 0,
  "metadata": {
    "colab": {
      "provenance": [],
      "authorship_tag": "ABX9TyOnvCONV7Psd33FIJ6QT6+q",
      "include_colab_link": true
    },
    "kernelspec": {
      "name": "python3",
      "display_name": "Python 3"
    },
    "language_info": {
      "name": "python"
    }
  },
  "cells": [
    {
      "cell_type": "markdown",
      "metadata": {
        "id": "view-in-github",
        "colab_type": "text"
      },
      "source": [
        "<a href=\"https://colab.research.google.com/github/shakeelrifathcse/Python-Basic-2-Advance-Excerise/blob/main/Bitwise-membership-identify_op/Bitwise_membership_identify_operators.ipynb\" target=\"_parent\"><img src=\"https://colab.research.google.com/assets/colab-badge.svg\" alt=\"Open In Colab\"/></a>"
      ]
    },
    {
      "cell_type": "markdown",
      "source": [
        "1. AND (&)\n",
        "The AND operator compares each bit of two numbers and returns 1 if both bits are 1, otherwise it returns 0.\n",
        "2. OR (|)\n",
        "The OR operator compares each bit of two numbers and returns 1 if at least one of the bits is 1, otherwise it returns 0.\n",
        "3. XOR (^)\n",
        "The XOR operator compares each bit of two numbers and returns 1 if the bits are different, otherwise it returns 0.\n",
        "4. NOT (~)\n",
        "The NOT operator inverts all the bits of the number. This is also known as the bitwise complement.\n",
        "5. LEFT SHIFT (<<)\n",
        "The LEFT SHIFT operator shifts all bits of the number to the left by a specified number of positions. It adds zeros to the right.\n",
        "6. RIGHT SHIFT (>>)\n",
        "The RIGHT SHIFT operator shifts all bits of the number to the right by a specified number of positions. It discards bits that are shifted out.\n",
        "\n"
      ],
      "metadata": {
        "id": "9C2v7YUBXRka"
      }
    },
    {
      "cell_type": "code",
      "source": [
        "a = 10  # Binary: 1010\n",
        "b = 4   # Binary: 0100\n",
        "\n",
        "# Bitwise AND\n",
        "result = a & b  # Binary: 0000, Decimal: 0\n",
        "print(result)  # Output: 0\n",
        "\n",
        "\n",
        "\n",
        "\n",
        "\n",
        "\n",
        "\n",
        "a = 10  # Binary: 1010\n",
        "b = 4   # Binary: 0100\n",
        "\n",
        "# Bitwise XOR\n",
        "result = a ^ b  # Binary: 1110, Decimal: 14\n",
        "print(result)  # Output: 14\n",
        "\n",
        "\n",
        "\n",
        "\n",
        "\n",
        "\n",
        "\n",
        "a = 10  # Binary: 1010\n",
        "b = 4   # Binary: 0100\n",
        "\n",
        "# Bitwise OR\n",
        "result = a | b  # Binary: 1110, Decimal: 14\n",
        "print(result)  # Output: 14\n",
        "\n",
        "\n",
        "\n",
        "\n",
        "\n",
        "a = 10  # Binary: 1010\n",
        "\n",
        "# Bitwise NOT\n",
        "result = ~a  # Binary: ...11110101 (in 8-bit), Decimal: -11\n",
        "print(result)  # Output: -11\n",
        "\n",
        "\n",
        "\n",
        "\n",
        "\n",
        "\n",
        "\n",
        "\n",
        "a = 10  # Binary: 1010\n",
        "\n",
        "# Left Shift\n",
        "result = a << 2  # Binary: 101000, Decimal: 40\n",
        "print(result)  # Output: 40\n",
        "\n",
        "\n",
        "\n",
        "\n",
        "\n",
        "\n",
        "\n",
        "\n",
        "a = 10  # Binary: 1010\n",
        "\n",
        "# Right Shift\n",
        "result = a >> 2  # Binary: 0010, Decimal: 2\n",
        "print(result)  # Output: 2\n",
        "\n",
        "\n",
        "\n"
      ],
      "metadata": {
        "colab": {
          "base_uri": "https://localhost:8080/"
        },
        "id": "hEY6rn3nXil9",
        "outputId": "73ea28b6-a6c8-4c35-f67b-42628f0c298b"
      },
      "execution_count": 3,
      "outputs": [
        {
          "output_type": "stream",
          "name": "stdout",
          "text": [
            "0\n",
            "14\n",
            "14\n",
            "-11\n",
            "40\n",
            "2\n"
          ]
        }
      ]
    },
    {
      "cell_type": "markdown",
      "source": [
        "Membership operators test for membership in a sequence (e.g., strings, lists, tuples).\n"
      ],
      "metadata": {
        "id": "nlrVqNR9YGSG"
      }
    },
    {
      "cell_type": "code",
      "source": [
        "fruits = [\"apple\", \"banana\", \"cherry\"]\n",
        "print(\"banana\" in fruits)  # Output: True\n"
      ],
      "metadata": {
        "colab": {
          "base_uri": "https://localhost:8080/"
        },
        "id": "m55JfFuxYTRT",
        "outputId": "12929302-20be-4752-90b5-8d536c92cce2"
      },
      "execution_count": 4,
      "outputs": [
        {
          "output_type": "stream",
          "name": "stdout",
          "text": [
            "True\n"
          ]
        }
      ]
    },
    {
      "cell_type": "code",
      "source": [
        "fruits = [\"apple\", \"banana\", \"cherry\"]\n",
        "print(\"orange\" not in fruits)  # Output: True\n"
      ],
      "metadata": {
        "colab": {
          "base_uri": "https://localhost:8080/"
        },
        "id": "yhFu4_GbYWaU",
        "outputId": "85ef7c91-1d72-4899-8272-c0290e8005c0"
      },
      "execution_count": 5,
      "outputs": [
        {
          "output_type": "stream",
          "name": "stdout",
          "text": [
            "True\n"
          ]
        }
      ]
    },
    {
      "cell_type": "markdown",
      "source": [
        "\n",
        "Identity operators compare the memory locations of two objects."
      ],
      "metadata": {
        "id": "5alJLy5KYYrs"
      }
    },
    {
      "cell_type": "code",
      "source": [
        "a = [1, 2, 3]\n",
        "b = a\n",
        "print(a is b)  # Output: True\n"
      ],
      "metadata": {
        "colab": {
          "base_uri": "https://localhost:8080/"
        },
        "id": "Ld4wIAZ7YcUk",
        "outputId": "91e4febf-d2aa-45f7-f768-e5ee1f43c0a8"
      },
      "execution_count": 6,
      "outputs": [
        {
          "output_type": "stream",
          "name": "stdout",
          "text": [
            "True\n"
          ]
        }
      ]
    },
    {
      "cell_type": "code",
      "source": [
        "a = 5\n",
        "b = 5\n",
        "print(a is not b)  # Output: True\n"
      ],
      "metadata": {
        "colab": {
          "base_uri": "https://localhost:8080/"
        },
        "id": "GGdA_Jg1YnIh",
        "outputId": "04adf550-b44e-4520-a737-d2569900bdc6"
      },
      "execution_count": 10,
      "outputs": [
        {
          "output_type": "stream",
          "name": "stdout",
          "text": [
            "False\n"
          ]
        }
      ]
    },
    {
      "cell_type": "code",
      "source": [
        "d=\"ravi\"\n",
        "f=\"ravii\"\n",
        "print(d is not f)"
      ],
      "metadata": {
        "colab": {
          "base_uri": "https://localhost:8080/"
        },
        "id": "vY1m1XHbYpg1",
        "outputId": "2d457c8a-ecb7-4bfc-b719-d3ba20285fda"
      },
      "execution_count": 12,
      "outputs": [
        {
          "output_type": "stream",
          "name": "stdout",
          "text": [
            "True\n"
          ]
        }
      ]
    },
    {
      "cell_type": "code",
      "source": [],
      "metadata": {
        "id": "0-1NS0qIY0MS"
      },
      "execution_count": null,
      "outputs": []
    }
  ]
}