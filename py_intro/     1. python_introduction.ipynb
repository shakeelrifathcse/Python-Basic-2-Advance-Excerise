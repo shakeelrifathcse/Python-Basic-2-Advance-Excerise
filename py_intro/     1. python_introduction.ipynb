{
  "nbformat": 4,
  "nbformat_minor": 0,
  "metadata": {
    "colab": {
      "provenance": [],
      "authorship_tag": "ABX9TyOf4mWEBN+nkI4R4m2Sv9cT",
      "include_colab_link": true
    },
    "kernelspec": {
      "name": "python3",
      "display_name": "Python 3"
    },
    "language_info": {
      "name": "python"
    }
  },
  "cells": [
    {
      "cell_type": "markdown",
      "metadata": {
        "id": "view-in-github",
        "colab_type": "text"
      },
      "source": [
        "<a href=\"https://colab.research.google.com/github/shakeelrifathcse/Python-Basic-2-Advance-Excerise/blob/main/py_intro/python_introduction.ipynb\" target=\"_parent\"><img src=\"https://colab.research.google.com/assets/colab-badge.svg\" alt=\"Open In Colab\"/></a>"
      ]
    },
    {
      "cell_type": "markdown",
      "source": [
        "### Starting from scratch!!!"
      ],
      "metadata": {
        "id": "2-d_GD33gkgO"
      }
    },
    {
      "cell_type": "markdown",
      "source": [
        "### writing my first code"
      ],
      "metadata": {
        "id": "MYlQ_XH6bmPy"
      }
    },
    {
      "cell_type": "code",
      "source": [],
      "metadata": {
        "id": "AoPk0CTjz7bF"
      },
      "execution_count": null,
      "outputs": []
    },
    {
      "cell_type": "code",
      "source": [
        "print(\"Business\")"
      ],
      "metadata": {
        "colab": {
          "base_uri": "https://localhost:8080/"
        },
        "id": "zkZhADdSbo4x",
        "outputId": "19db7788-4ac6-4d12-8fb7-d2d6e21aff2d"
      },
      "execution_count": null,
      "outputs": [
        {
          "output_type": "stream",
          "name": "stdout",
          "text": [
            "Business\n"
          ]
        }
      ]
    },
    {
      "cell_type": "markdown",
      "source": [
        "### Comments in Python\n"
      ],
      "metadata": {
        "id": "m2vHR_-5buKC"
      }
    },
    {
      "cell_type": "code",
      "source": [
        "# single line comment"
      ],
      "metadata": {
        "id": "w64HEBVsbvZl"
      },
      "execution_count": null,
      "outputs": []
    },
    {
      "cell_type": "code",
      "source": [
        "# multi line comment\n",
        "# how are you!"
      ],
      "metadata": {
        "id": "w4vTbyN8cCEc"
      },
      "execution_count": null,
      "outputs": []
    },
    {
      "cell_type": "code",
      "source": [
        "#multi line comment\n",
        "\n",
        "\"\"\"I love data and its science\n",
        "and also its technology\"\"\"\n",
        "print(\"hello\")"
      ],
      "metadata": {
        "colab": {
          "base_uri": "https://localhost:8080/"
        },
        "id": "FyaL5aXvbzzU",
        "outputId": "6d3bbcf3-6b5d-4bfe-e6fb-b4aff358258b"
      },
      "execution_count": null,
      "outputs": [
        {
          "output_type": "stream",
          "name": "stdout",
          "text": [
            "hello\n"
          ]
        }
      ]
    },
    {
      "cell_type": "code",
      "source": [
        "#docstring\n",
        "a,b=map(int,input().split())\n",
        "def mul(a,b):\n",
        "  \"\"\"its multipy the values of a and b\"\"\"\n",
        "  return a*b\n",
        "#By using docstring technique printing only the documents word inside the source code\n",
        "print(mul.__doc__)\n",
        "mul(a,b)"
      ],
      "metadata": {
        "colab": {
          "base_uri": "https://localhost:8080/"
        },
        "id": "WGFZ6cg3b-Bm",
        "outputId": "da4d73e8-c0b0-4153-885f-253215435abf"
      },
      "execution_count": null,
      "outputs": [
        {
          "output_type": "stream",
          "name": "stdout",
          "text": [
            "5 24\n",
            "its multipy the values of a and b\n"
          ]
        },
        {
          "output_type": "execute_result",
          "data": {
            "text/plain": [
              "120"
            ]
          },
          "metadata": {},
          "execution_count": 21
        }
      ]
    },
    {
      "cell_type": "markdown",
      "source": [
        "### python variables\n",
        "\n",
        ">It is like a jar which stores a element in memory space\n",
        "\n"
      ],
      "metadata": {
        "id": "-tfDbTmxeUSP"
      }
    },
    {
      "cell_type": "code",
      "source": [
        "age =25\n",
        "salary=30000\n",
        "name=\"shakeel\"\n",
        "print(age)\n",
        "print(salary)\n",
        "print(name)"
      ],
      "metadata": {
        "colab": {
          "base_uri": "https://localhost:8080/"
        },
        "id": "nzrPGvgmfz71",
        "outputId": "8929460b-8881-4b1c-e1a2-c64753e3b945"
      },
      "execution_count": null,
      "outputs": [
        {
          "output_type": "stream",
          "name": "stdout",
          "text": [
            "25\n",
            "30000\n",
            "shakeel\n"
          ]
        }
      ]
    },
    {
      "cell_type": "markdown",
      "source": [
        "### DATA TYPES"
      ],
      "metadata": {
        "id": "duLXdsRUf3gt"
      }
    },
    {
      "cell_type": "code",
      "source": [
        "X=\"HELLO WORD\"#STRING\n",
        "Y=244 #Int\n",
        "z=3.11 #float\n",
        "l=[1,2,3]#list\n",
        "s={1,2,3,4}#set\n",
        "d={\"name\":\"shakeel\",\"age\":22}#dictionary\n",
        "t=(2,3,4,5)#tuple\n",
        "co=3j #complex number\n",
        "b=b\"sr\"#binary-bytes\n",
        "tf=True #boolean"
      ],
      "metadata": {
        "id": "ocYF793Ug0t_"
      },
      "execution_count": null,
      "outputs": []
    },
    {
      "cell_type": "markdown",
      "source": [
        "### input/output"
      ],
      "metadata": {
        "id": "pnAWgi0_g9kX"
      }
    },
    {
      "cell_type": "code",
      "source": [
        "a = input() # Now you can use the input() function again\n",
        "b = input()\n",
        "c = a + b"
      ],
      "metadata": {
        "colab": {
          "base_uri": "https://localhost:8080/"
        },
        "id": "D9vORMvYh2Wq",
        "outputId": "984aedf7-87b9-4408-e44a-86c0759d3a5b"
      },
      "execution_count": null,
      "outputs": [
        {
          "name": "stdout",
          "output_type": "stream",
          "text": [
            "5\n",
            "5\n"
          ]
        }
      ]
    },
    {
      "cell_type": "code",
      "source": [
        "print(c)# all the input are in string format\n"
      ],
      "metadata": {
        "colab": {
          "base_uri": "https://localhost:8080/"
        },
        "id": "ZhraEdS3ildr",
        "outputId": "da2901e7-0902-486a-8423-866659840ec5"
      },
      "execution_count": null,
      "outputs": [
        {
          "output_type": "stream",
          "name": "stdout",
          "text": [
            "55\n"
          ]
        }
      ]
    },
    {
      "cell_type": "code",
      "source": [
        "int(a)+int(b)"
      ],
      "metadata": {
        "colab": {
          "base_uri": "https://localhost:8080/"
        },
        "id": "4MFW9cUQlErI",
        "outputId": "4fc3b616-8d07-490b-d33f-5517f3190cd9"
      },
      "execution_count": null,
      "outputs": [
        {
          "output_type": "execute_result",
          "data": {
            "text/plain": [
              "10"
            ]
          },
          "metadata": {},
          "execution_count": 55
        }
      ]
    },
    {
      "cell_type": "markdown",
      "source": [
        "### Operators"
      ],
      "metadata": {
        "id": "OrJcxkO3kObz"
      }
    },
    {
      "cell_type": "code",
      "source": [
        "a = 9\n",
        "b = 4\n",
        "add = a + b\n",
        "\n",
        "sub = a - b\n",
        "\n",
        "mul = a * b\n",
        "\n",
        "mod = a % b\n",
        "\n",
        "p = a ** b\n",
        "print(add)\n",
        "print(sub)\n",
        "print(mul)\n",
        "print(mod)\n",
        "print(p)"
      ],
      "metadata": {
        "colab": {
          "base_uri": "https://localhost:8080/"
        },
        "id": "i5lwMsVEpgWu",
        "outputId": "0202b262-3386-4d57-c778-13160ccec761"
      },
      "execution_count": null,
      "outputs": [
        {
          "output_type": "stream",
          "name": "stdout",
          "text": [
            "13\n",
            "5\n",
            "36\n",
            "1\n",
            "6561\n"
          ]
        }
      ]
    },
    {
      "cell_type": "markdown",
      "source": [
        "Arithmetic operators"
      ],
      "metadata": {
        "id": "hQSsWYC1l0nM"
      }
    },
    {
      "cell_type": "code",
      "source": [
        "\"\"\"\n",
        "Precedence of Arithmetic Operators\n",
        "The precedence of Arithmetic Operators in Python is as follows:\n",
        "\n",
        "P – Parentheses\n",
        "E – Exponentiation\n",
        "M – Multiplication (Multiplication and division have the same precedence)\n",
        "D – Division\n",
        "A – Addition (Addition and subtraction have the same precedence)\n",
        "S – Subtraction\n",
        "\"\"\""
      ],
      "metadata": {
        "colab": {
          "base_uri": "https://localhost:8080/",
          "height": 53
        },
        "id": "wueGV5NKlZJE",
        "outputId": "1a208eea-078e-4ace-f9a4-8b75322831f4"
      },
      "execution_count": null,
      "outputs": [
        {
          "output_type": "execute_result",
          "data": {
            "text/plain": [
              "'\\nPrecedence of Arithmetic Operators\\nThe precedence of Arithmetic Operators in Python is as follows:\\n\\nP – Parentheses\\nE – Exponentiation\\nM – Multiplication (Multiplication and division have the same precedence)\\nD – Division\\nA – Addition (Addition and subtraction have the same precedence)\\nS – Subtraction\\n'"
            ],
            "application/vnd.google.colaboratory.intrinsic+json": {
              "type": "string"
            }
          },
          "metadata": {},
          "execution_count": 56
        }
      ]
    },
    {
      "cell_type": "markdown",
      "source": [
        "Logical Operators"
      ],
      "metadata": {
        "id": "clBfzX2Zlt66"
      }
    },
    {
      "cell_type": "markdown",
      "source": [
        "and,or,not"
      ],
      "metadata": {
        "id": "kiKyQsmLmEpb"
      }
    },
    {
      "cell_type": "code",
      "source": [
        "#The Boolean AND operator returns True if both the operands are True else it returns False.\n",
        "a=20\n",
        "b=5\n",
        "c=30\n",
        "if a>b and a>c: #its become false and skip\n",
        "  print(\"a is greater\")\n",
        "elif b>a and b>c:\n",
        "  print(\"b is greater\")\n",
        "else:\n",
        "  print(\"c is greater\")"
      ],
      "metadata": {
        "colab": {
          "base_uri": "https://localhost:8080/"
        },
        "id": "KjCUW7p1maRw",
        "outputId": "97e0bf20-5d80-41fb-f58b-e8fa0e42f96c"
      },
      "execution_count": null,
      "outputs": [
        {
          "output_type": "stream",
          "name": "stdout",
          "text": [
            "c is greater\n"
          ]
        }
      ]
    },
    {
      "cell_type": "code",
      "source": [
        "#The Boolean OR operator returns True if either of the operands is True.\n",
        "a=20\n",
        "b=5\n",
        "c=30\n",
        "if a>b or a>c: #its become true and print this line\n",
        "  print(\"a is greater\")\n",
        "elif b>a or b>c:\n",
        "  print(\"b is greater\")\n",
        "else:\n",
        "  print(\"c is greater\")"
      ],
      "metadata": {
        "colab": {
          "base_uri": "https://localhost:8080/"
        },
        "id": "G4EWOCDsnECv",
        "outputId": "82c09ab1-69c5-4142-9860-cfba508fe9cc"
      },
      "execution_count": null,
      "outputs": [
        {
          "output_type": "stream",
          "name": "stdout",
          "text": [
            "a is greater\n"
          ]
        }
      ]
    },
    {
      "cell_type": "code",
      "source": [
        "#The Boolean NOT operator works with a single boolean value. If the boolean value is True it returns False and vice-versa.\n",
        "a=20\n",
        "b=50\n",
        "c=30\n",
        "if not a>b: #its become true and print this line\n",
        "  print(\"a is greater\")"
      ],
      "metadata": {
        "colab": {
          "base_uri": "https://localhost:8080/"
        },
        "id": "gyYNNSlGn4XN",
        "outputId": "2f09cdf0-8b05-4200-b00f-6c3810091bcd"
      },
      "execution_count": null,
      "outputs": [
        {
          "output_type": "stream",
          "name": "stdout",
          "text": [
            "a is greater\n"
          ]
        }
      ]
    },
    {
      "cell_type": "code",
      "source": [
        "a=int(input())\n",
        "\n",
        "b=int(input())\n",
        "\n",
        "if a>10 and b>10:\n",
        "  print(\"true\")\n",
        "else:\n",
        "  print(\"false\")"
      ],
      "metadata": {
        "id": "diYgmwikoWTg",
        "colab": {
          "base_uri": "https://localhost:8080/"
        },
        "outputId": "e46eac8b-bc79-4cab-9ce1-aeb0cd92ee0e"
      },
      "execution_count": null,
      "outputs": [
        {
          "output_type": "stream",
          "name": "stdout",
          "text": [
            "1\n",
            "5\n",
            "false\n"
          ]
        }
      ]
    },
    {
      "cell_type": "code",
      "source": [
        "x= True\n",
        "y=False\n",
        "print(x and y)\n",
        "print(x or y)\n",
        "print(not x)"
      ],
      "metadata": {
        "colab": {
          "base_uri": "https://localhost:8080/"
        },
        "id": "Ca-zXLXXU-zu",
        "outputId": "50d59243-35d1-4f58-c3ee-e904199dac1c"
      },
      "execution_count": null,
      "outputs": [
        {
          "output_type": "stream",
          "name": "stdout",
          "text": [
            "False\n",
            "True\n",
            "False\n"
          ]
        }
      ]
    },
    {
      "cell_type": "code",
      "source": [
        "temp =25\n",
        "if temp>20 and temp<30:\n",
        "  print(\"it's warm\")\n",
        "if temp<20 or temp>30:\n",
        "  print(\"it's cold\")\n",
        "if not temp:\n",
        "  print(\"Temperature is unknown\")"
      ],
      "metadata": {
        "colab": {
          "base_uri": "https://localhost:8080/"
        },
        "id": "Oj6f9PZUYF1S",
        "outputId": "0f3b6e83-4335-4b01-8569-488e6d4c3090"
      },
      "execution_count": null,
      "outputs": [
        {
          "output_type": "stream",
          "name": "stdout",
          "text": [
            "it's warm\n"
          ]
        }
      ]
    },
    {
      "cell_type": "code",
      "source": [
        "a = 15\n",
        "b= 10\n",
        "if a==b:\n",
        "  print(\"a is equal to b\")\n",
        "if a>b:\n",
        "  print(\"a is greater than b\")\n",
        "else:\n",
        "  print(\"b is greater than a\")\n",
        "if ((a and b) >0):\n",
        "  print(\"both are positive\")\n",
        "if ((a or b)<0):\n",
        "  print(\"at least one is negative\")"
      ],
      "metadata": {
        "colab": {
          "base_uri": "https://localhost:8080/"
        },
        "id": "MLe-cgJOZgTm",
        "outputId": "0b7f7ef3-fa10-4bc6-adc4-d7284b35b940"
      },
      "execution_count": null,
      "outputs": [
        {
          "output_type": "stream",
          "name": "stdout",
          "text": [
            "a is greater than b\n",
            "both are positive\n"
          ]
        }
      ]
    },
    {
      "cell_type": "markdown",
      "source": [
        "driving elig check"
      ],
      "metadata": {
        "id": "X1_jl4BtbhJq"
      }
    },
    {
      "cell_type": "code",
      "source": [
        "age =18\n",
        "has_license=True\n",
        "if age>=18 and has_license:\n",
        "  print(\"you can drive\")\n",
        "if age<18 or not has_license:\n",
        "  print(\"you can't drive\")"
      ],
      "metadata": {
        "colab": {
          "base_uri": "https://localhost:8080/"
        },
        "id": "1_HgBi34ceEG",
        "outputId": "cffe355e-f468-423f-ded0-52cc3d7f8de2"
      },
      "execution_count": null,
      "outputs": [
        {
          "output_type": "stream",
          "name": "stdout",
          "text": [
            "you can drive\n"
          ]
        }
      ]
    },
    {
      "cell_type": "code",
      "source": [
        "score = 85\n",
        "if score>=90:\n",
        "  print(\"Excellent\")\n",
        "if score>=70 and score<=89:\n",
        "  print(\"good\")\n",
        "if score>=50 and score<=69:\n",
        "  print(\"pass\")\n",
        "if score<50:\n",
        "  print(\"fail\")"
      ],
      "metadata": {
        "colab": {
          "base_uri": "https://localhost:8080/"
        },
        "id": "QvOTjO4mcvak",
        "outputId": "dc469383-9f5c-4be8-9f96-9b3e07e89d61"
      },
      "execution_count": null,
      "outputs": [
        {
          "output_type": "stream",
          "name": "stdout",
          "text": [
            "good\n"
          ]
        }
      ]
    },
    {
      "cell_type": "code",
      "source": [
        "def is_prime(n):\n",
        "  if n%1==0 and n%n==0:\n",
        "    return True\n",
        "  else:\n",
        "    return False\n",
        "is_prime(6)\n"
      ],
      "metadata": {
        "colab": {
          "base_uri": "https://localhost:8080/"
        },
        "id": "5Bf24ApiejAM",
        "outputId": "5dd99377-0ca8-49cc-fcce-8871d1c8cfaa"
      },
      "execution_count": null,
      "outputs": [
        {
          "output_type": "execute_result",
          "data": {
            "text/plain": [
              "True"
            ]
          },
          "metadata": {},
          "execution_count": 16
        }
      ]
    },
    {
      "cell_type": "markdown",
      "source": [
        "Problem:\n",
        "Write a function is_teenager(age) that takes an integer age and returns True if the person is a teenager (age between 13 and 19, inclusive), and False otherwise.\n"
      ],
      "metadata": {
        "id": "U9jJDTaLfl6b"
      }
    },
    {
      "cell_type": "code",
      "source": [
        "def is_teenager(age):\n",
        "  if age>=13 and age<=19:\n",
        "    return True\n",
        "  else:\n",
        "    return False\n",
        "is_teenager(13)"
      ],
      "metadata": {
        "colab": {
          "base_uri": "https://localhost:8080/"
        },
        "id": "7wWNt1NZhmfr",
        "outputId": "b80d4963-9d6e-415b-953d-3d26d465a6ab"
      },
      "execution_count": null,
      "outputs": [
        {
          "output_type": "execute_result",
          "data": {
            "text/plain": [
              "True"
            ]
          },
          "metadata": {},
          "execution_count": 22
        }
      ]
    },
    {
      "cell_type": "markdown",
      "source": [
        "Write a function is_valid_triangle(a, b, c) that takes three integers a, b, and c representing the lengths of the sides of a triangle. The function should return True if the sides form a valid triangle, and False otherwise. A triangle is valid if the sum of any two sides is greater than the third side.\n"
      ],
      "metadata": {
        "id": "bcpYd9Ath8Oj"
      }
    },
    {
      "cell_type": "code",
      "source": [
        "def is_valid_triangle(a,b,c):\n",
        "  if (a+b)>c and (b+c)>a and (a+c)>b:\n",
        "    print(\"true\")\n",
        "  else:\n",
        "    print(\"false\")\n",
        "print(is_valid_triangle(6, 5, 10))"
      ],
      "metadata": {
        "colab": {
          "base_uri": "https://localhost:8080/"
        },
        "id": "3vfuMamgATNN",
        "outputId": "06a107c5-d998-40c6-c16d-30485d83b082"
      },
      "execution_count": null,
      "outputs": [
        {
          "output_type": "stream",
          "name": "stdout",
          "text": [
            "true\n",
            "None\n"
          ]
        }
      ]
    },
    {
      "cell_type": "markdown",
      "source": [
        "Write a function is_even(n) that takes an integer n and returns True if the number is even, and False if it is odd."
      ],
      "metadata": {
        "id": "8A4fDE2SDK_O"
      }
    },
    {
      "cell_type": "code",
      "source": [
        "def is_even(n):\n",
        "  if n % 2==0:\n",
        "    return True\n",
        "  else:\n",
        "    return False\n",
        "print(is_even(4))\n",
        "print(is_even(7))\n"
      ],
      "metadata": {
        "colab": {
          "base_uri": "https://localhost:8080/"
        },
        "id": "LHJ4DgOOEJaD",
        "outputId": "ea856ab1-6116-488c-a00f-e9be97b58c71"
      },
      "execution_count": null,
      "outputs": [
        {
          "output_type": "stream",
          "name": "stdout",
          "text": [
            "True\n",
            "False\n"
          ]
        }
      ]
    },
    {
      "cell_type": "code",
      "source": [
        "def add_num(a,b):\n",
        "  return a+b\n",
        "add_num(5,5)"
      ],
      "metadata": {
        "colab": {
          "base_uri": "https://localhost:8080/"
        },
        "id": "2eWnzC1qP37d",
        "outputId": "dd2fc858-3d0a-4b61-bd1a-c1ba67e25fdc"
      },
      "execution_count": null,
      "outputs": [
        {
          "output_type": "execute_result",
          "data": {
            "text/plain": [
              "10"
            ]
          },
          "metadata": {},
          "execution_count": 1
        }
      ]
    },
    {
      "cell_type": "markdown",
      "source": [
        "Write a Python function calculate_area(radius) that calculates and returns the area of a circle given its radius. Use the formula for the area of a circle:\n",
        "Area\n",
        "=\n",
        "𝜋\n",
        "×\n",
        "radius\n",
        "2\n",
        "Area=π×radius\n",
        "2\n",
        " ."
      ],
      "metadata": {
        "id": "e8rG5qLSRKrg"
      }
    },
    {
      "cell_type": "code",
      "source": [
        "def cal_area(radius):\n",
        "  area=3.14*(radius**2)\n",
        "  return area\n",
        "radius = 5\n",
        "area = cal_area(radius)\n",
        "print(f\"The area of a circle with radius {radius} is: {area}\")\n"
      ],
      "metadata": {
        "colab": {
          "base_uri": "https://localhost:8080/"
        },
        "id": "yjZmkGN8P-8D",
        "outputId": "22e0f7f5-e88f-4e2d-86ec-aa830384b099"
      },
      "execution_count": null,
      "outputs": [
        {
          "output_type": "stream",
          "name": "stdout",
          "text": [
            "The area of a circle with radius 5 is: 78.5\n"
          ]
        }
      ]
    },
    {
      "cell_type": "markdown",
      "source": [
        "Write a program to find the square root of a number without using the math module.\n"
      ],
      "metadata": {
        "id": "YUkANuGnR-G2"
      }
    },
    {
      "cell_type": "code",
      "source": [
        "number = 25\n",
        "sqrt = number ** 0.5\n",
        "print(\"The square root is:\", sqrt)\n"
      ],
      "metadata": {
        "colab": {
          "base_uri": "https://localhost:8080/"
        },
        "id": "2pnWaA8GQ1Fa",
        "outputId": "52f27ee5-0f11-428a-b1a7-6cee40990efa"
      },
      "execution_count": null,
      "outputs": [
        {
          "output_type": "stream",
          "name": "stdout",
          "text": [
            "The square root is: 5.0\n"
          ]
        }
      ]
    },
    {
      "cell_type": "markdown",
      "source": [
        "Write a program to swap two variables without using a temporary variable.\n"
      ],
      "metadata": {
        "id": "-12DPWqZSLQC"
      }
    },
    {
      "cell_type": "code",
      "source": [
        "a = 3\n",
        "b = 7\n",
        "a, b = b, a\n",
        "print(\"After swapping: a =\", a, \", b =\", b)\n"
      ],
      "metadata": {
        "colab": {
          "base_uri": "https://localhost:8080/"
        },
        "id": "vyx72TxBR1E8",
        "outputId": "45068b72-feae-48ba-c3d8-c76fe10a7e4a"
      },
      "execution_count": null,
      "outputs": [
        {
          "output_type": "stream",
          "name": "stdout",
          "text": [
            "After swapping: a = 7 , b = 3\n"
          ]
        }
      ]
    },
    {
      "cell_type": "markdown",
      "source": [
        "Exercise: Check if a Number is Positive, Negative, or Zero"
      ],
      "metadata": {
        "id": "eNo1H2_KSKCI"
      }
    },
    {
      "cell_type": "code",
      "source": [
        "n=float(input())\n",
        "if n>=1:\n",
        "  print(\"The number is positive\")\n",
        "elif n<=-1:\n",
        "  print(\"negative\")\n",
        "elif n==0:\n",
        "  print(\"its zero\")"
      ],
      "metadata": {
        "colab": {
          "base_uri": "https://localhost:8080/"
        },
        "id": "bf5QYV1agRQy",
        "outputId": "dcc6c8ce-6a5e-4319-ab70-1702ec50f2bd"
      },
      "execution_count": null,
      "outputs": [
        {
          "output_type": "stream",
          "name": "stdout",
          "text": [
            "4\n",
            "The number is positive\n"
          ]
        }
      ]
    },
    {
      "cell_type": "code",
      "source": [
        "n=float(input())\n",
        "if n.is_integer():\n",
        "  print(\"int\")\n",
        "else :\n",
        "  print(\"float\")"
      ],
      "metadata": {
        "colab": {
          "base_uri": "https://localhost:8080/"
        },
        "id": "3KG2jdvYhgQ2",
        "outputId": "dbd76b93-d05e-4de3-b6a8-bc8bd6328002"
      },
      "execution_count": null,
      "outputs": [
        {
          "output_type": "stream",
          "name": "stdout",
          "text": [
            "4\n",
            "int\n"
          ]
        }
      ]
    },
    {
      "cell_type": "markdown",
      "source": [
        "Basic Arithmetic Operations"
      ],
      "metadata": {
        "id": "I5G28b9BieJD"
      }
    },
    {
      "cell_type": "code",
      "source": [
        "n=float(input())\n",
        "m=float(input())\n",
        "a=n+m\n",
        "b=n-m\n",
        "c=n*m\n",
        "\n",
        "if m != 0:\n",
        "    d = n / m\n",
        "    e = n % m\n",
        "else:\n",
        "    d = \"Division by zero error\"\n",
        "    e = \"Division by zero error\"\n",
        "\n",
        "print(a)\n",
        "print(b)\n",
        "print(c)\n",
        "print(d)\n",
        "print(e)\n"
      ],
      "metadata": {
        "colab": {
          "base_uri": "https://localhost:8080/"
        },
        "id": "8wXMmBvmlcH1",
        "outputId": "736e90ad-913d-4ca0-ea98-2cc02616c99b"
      },
      "execution_count": null,
      "outputs": [
        {
          "output_type": "stream",
          "name": "stdout",
          "text": [
            "23\n",
            "0\n",
            "23.0\n",
            "23.0\n",
            "0.0\n",
            "Division by zero error\n",
            "Division by zero error\n"
          ]
        }
      ]
    },
    {
      "cell_type": "markdown",
      "source": [
        "Temperature Conversion\n"
      ],
      "metadata": {
        "id": "DgXUnpEnolFR"
      }
    },
    {
      "cell_type": "code",
      "source": [
        "temp=int(input())\n",
        "#temp in celsius\n",
        "temperature =temp*(9/5)+32\n",
        "print(\"cel to fah:\",temperature)"
      ],
      "metadata": {
        "colab": {
          "base_uri": "https://localhost:8080/"
        },
        "id": "FlFBz5EYl12p",
        "outputId": "c4bcaf65-7b20-4ecc-f733-4d1c16bb5245"
      },
      "execution_count": null,
      "outputs": [
        {
          "output_type": "stream",
          "name": "stdout",
          "text": [
            "32\n",
            "cel to fah: 89.6\n"
          ]
        }
      ]
    },
    {
      "cell_type": "markdown",
      "source": [
        "Area of a Circle"
      ],
      "metadata": {
        "id": "OIJY0ZeNob_N"
      }
    },
    {
      "cell_type": "code",
      "source": [
        "r=int(input())\n",
        "area=(3.14159*r**2)\n",
        "print(\"area:\",area)"
      ],
      "metadata": {
        "colab": {
          "base_uri": "https://localhost:8080/"
        },
        "id": "xKivpTzHoqqu",
        "outputId": "d1831cbb-7ea8-4edd-b734-d8eafe65a21c"
      },
      "execution_count": null,
      "outputs": [
        {
          "output_type": "stream",
          "name": "stdout",
          "text": [
            "3\n",
            "area: 28.27431\n"
          ]
        }
      ]
    },
    {
      "cell_type": "markdown",
      "source": [
        "\n",
        "Simple Interest"
      ],
      "metadata": {
        "id": "mn6wQx15pGZ3"
      }
    },
    {
      "cell_type": "code",
      "source": [
        "p=int(input())\n",
        "i=int(input())\n",
        "t=int(input())\n",
        "\n",
        "si=(p*i*t)/100\n",
        "\n",
        "print(\"SI:\",si)"
      ],
      "metadata": {
        "colab": {
          "base_uri": "https://localhost:8080/"
        },
        "id": "dFoinR4ppUZw",
        "outputId": "a7779bc2-9d7b-4304-9103-19988eb17fe6"
      },
      "execution_count": null,
      "outputs": [
        {
          "output_type": "stream",
          "name": "stdout",
          "text": [
            "20\n",
            "5\n",
            "3\n",
            "SI: 3.0\n"
          ]
        }
      ]
    },
    {
      "cell_type": "code",
      "source": [
        "\n"
      ],
      "metadata": {
        "colab": {
          "base_uri": "https://localhost:8080/"
        },
        "id": "GQwJORbvpvlp",
        "outputId": "3eac2657-c440-4056-ac84-8115d0212977"
      },
      "execution_count": null,
      "outputs": [
        {
          "output_type": "stream",
          "name": "stdout",
          "text": [
            "12345\n",
            "15\n"
          ]
        }
      ]
    },
    {
      "cell_type": "markdown",
      "source": [
        "Sum of Digits"
      ],
      "metadata": {
        "id": "Zsf5PBOzxlP-"
      }
    },
    {
      "cell_type": "code",
      "source": [
        "n=int(input())\n",
        "rem=0\n",
        "while n!=0:\n",
        "  rem=rem +(n%10)\n",
        "  n=n//10\n",
        "print(rem)"
      ],
      "metadata": {
        "colab": {
          "base_uri": "https://localhost:8080/"
        },
        "id": "l90-iCPQrn7X",
        "outputId": "3c78e3dd-e483-430e-f98d-2fedc0abfe89"
      },
      "execution_count": null,
      "outputs": [
        {
          "output_type": "stream",
          "name": "stdout",
          "text": [
            "12345\n",
            "15\n"
          ]
        }
      ]
    },
    {
      "cell_type": "markdown",
      "source": [
        "check prime"
      ],
      "metadata": {
        "id": "ZN-OpN9r5YZ2"
      }
    },
    {
      "cell_type": "code",
      "source": [
        "n = int(input(\"Enter a positive integer: \"))\n",
        "\n",
        "if n <= 1:\n",
        "    print(\"Not prime\")\n",
        "elif n == 2:\n",
        "    print(\"Prime\")\n",
        "elif n == 3:\n",
        "    print(\"Prime\")\n",
        "elif n % 2 == 0:\n",
        "    print(\"Not prime\")\n",
        "elif n % 3 == 0:\n",
        "    print(\"Not prime\")\n",
        "elif n == 5:\n",
        "    print(\"Prime\")\n",
        "elif n == 7:\n",
        "    print(\"Prime\")\n",
        "elif n % 5 == 0:\n",
        "    print(\"Not prime\")\n",
        "elif n % 7 == 0:\n",
        "    print(\"Not prime\")\n",
        "else:\n",
        "    print(\"Prime\")\n"
      ],
      "metadata": {
        "colab": {
          "base_uri": "https://localhost:8080/"
        },
        "id": "3Q9AEGwYxOA-",
        "outputId": "89e1a9d0-1497-459b-9bc8-d5aea58c7560"
      },
      "execution_count": null,
      "outputs": [
        {
          "output_type": "stream",
          "name": "stdout",
          "text": [
            "Enter a positive integer: 11\n",
            "Prime\n"
          ]
        }
      ]
    },
    {
      "cell_type": "code",
      "source": [
        "n = int(input(\"Enter a positive integer: \"))\n",
        "if n <= 1:\n",
        "    print(\"Not prime\")\n",
        "else:\n",
        "    is_prime = True\n",
        "    for i in range(2, int(n ** 0.5) + 1):\n",
        "        if n % i == 0:\n",
        "            is_prime = False\n",
        "            break\n",
        "    if is_prime:\n",
        "        print(\"Prime\")\n",
        "    else:\n",
        "        print(\"Not prime\")\n"
      ],
      "metadata": {
        "colab": {
          "base_uri": "https://localhost:8080/"
        },
        "id": "Ba5qgnNJy0mY",
        "outputId": "7fd93231-b68e-4bc2-afd9-89967f2e7fea"
      },
      "execution_count": null,
      "outputs": [
        {
          "output_type": "stream",
          "name": "stdout",
          "text": [
            "Enter a positive integer: 531\n",
            "Not prime\n"
          ]
        }
      ]
    },
    {
      "cell_type": "markdown",
      "source": [
        "Title: Check Positive, Negative, or Zero"
      ],
      "metadata": {
        "id": "hILEr1qk6fF1"
      }
    },
    {
      "cell_type": "code",
      "source": [
        "def check_number(num):\n",
        "  if num>=1:\n",
        "    return \"Positive\"\n",
        "  elif num<=-1:\n",
        "    return \"negative\"\n",
        "  else:\n",
        "    return \"zero\"\n",
        "check_number(-134)"
      ],
      "metadata": {
        "id": "udpw8miV4fLc",
        "outputId": "7278632c-2807-4d70-c35a-0a54b67a5d94",
        "colab": {
          "base_uri": "https://localhost:8080/",
          "height": 35
        }
      },
      "execution_count": null,
      "outputs": [
        {
          "output_type": "execute_result",
          "data": {
            "text/plain": [
              "'negative'"
            ],
            "application/vnd.google.colaboratory.intrinsic+json": {
              "type": "string"
            }
          },
          "metadata": {},
          "execution_count": 4
        }
      ]
    },
    {
      "cell_type": "markdown",
      "source": [
        "Find the Largest Among Three Numbers"
      ],
      "metadata": {
        "id": "j3Ix0a-2D2aK"
      }
    },
    {
      "cell_type": "code",
      "source": [
        "def find_largest(a, b, c):\n",
        "    if a >= b and a >= c:\n",
        "        return a\n",
        "    elif b >= a and b >= c:\n",
        "        return b\n",
        "    else:\n",
        "        return c\n",
        "\n",
        "# Test cases\n",
        "print(find_largest(3, 1, 2))    # Output: 3\n",
        "print(find_largest(-1, -2, -3)) # Output: -1\n",
        "print(find_largest(7, 7, 7))    # Output: 7\n",
        "print(find_largest(1, 10, 10))  # Output: 10\n"
      ],
      "metadata": {
        "id": "_ukeRfVl-Nw0"
      },
      "execution_count": null,
      "outputs": []
    },
    {
      "cell_type": "markdown",
      "source": [
        "check leap yr"
      ],
      "metadata": {
        "id": "V_-8Z-HQIWfC"
      }
    },
    {
      "cell_type": "code",
      "source": [
        "def is_leap_year(year: int) -> bool:\n",
        "  if (year%100==0):\n",
        "    return False\n",
        "  if (year%4==0 or year%400==0):\n",
        "    return True\n",
        "is_leap_year(2000)\n"
      ],
      "metadata": {
        "id": "kROSuSNtB69q",
        "outputId": "bd76788a-be6c-4add-ae1b-eec9880d1c88",
        "colab": {
          "base_uri": "https://localhost:8080/"
        }
      },
      "execution_count": null,
      "outputs": [
        {
          "output_type": "execute_result",
          "data": {
            "text/plain": [
              "False"
            ]
          },
          "metadata": {},
          "execution_count": 29
        }
      ]
    },
    {
      "cell_type": "markdown",
      "source": [
        "generate random no"
      ],
      "metadata": {
        "id": "-KltyDSBFrAX"
      }
    },
    {
      "cell_type": "code",
      "source": [
        "import random\n",
        "def gen_ran_no(start,end):\n",
        "  return random.randint(start,end)\n",
        "print(gen_ran_no(1, 10))  # Output: A random number between 1 and 10 (inclusive)\n",
        "print(gen_ran_no(20, 25))  # Output: A random number between -5 and 5 (inclusive)\n",
        "print(gen_ran_no(-10, -1))  # Output: A random number between -10 and -1 (inclusive)\n",
        "print(gen_ran_no(0, 100))   # Output: A random number between 0 and 100 (inclusive)\n",
        "print(gen_ran_no(50, 50))   # Output: 50 (since start and end are the same)\n",
        "\n",
        "\n"
      ],
      "metadata": {
        "id": "53HmGsZKjoeZ",
        "outputId": "849ba410-fef4-46dc-d31f-5181d7b9442d",
        "colab": {
          "base_uri": "https://localhost:8080/"
        }
      },
      "execution_count": 9,
      "outputs": [
        {
          "output_type": "stream",
          "name": "stdout",
          "text": [
            "3\n",
            "23\n",
            "-6\n",
            "14\n",
            "50\n"
          ]
        }
      ]
    },
    {
      "cell_type": "markdown",
      "source": [
        "Quadratic Equation"
      ],
      "metadata": {
        "id": "RpTPMIKokAC9"
      }
    },
    {
      "cell_type": "code",
      "source": [
        "import cmath\n",
        "\n",
        "def solve_quadratic(a: float, b: float, c: float) -> tuple:\n",
        "    # Calculate the discriminant\n",
        "    D = b**2 - 4*a*c\n",
        "\n",
        "    # If the discriminant is positive, calculate two distinct real roots\n",
        "    if D > 0:\n",
        "        root1 = (-b + cmath.sqrt(D)) / (2*a)\n",
        "        root2 = (-b - cmath.sqrt(D)) / (2*a)\n",
        "        return (root1.real, root2.real)\n",
        "    # If the discriminant is zero, calculate one real root (repeated twice)\n",
        "    elif D == 0:\n",
        "        root = -b / (2*a)\n",
        "        return (root, root)\n",
        "    # If the discriminant is negative, return an empty tuple\n",
        "    else:\n",
        "        return ()\n",
        "\n",
        "# Test cases\n",
        "print(solve_quadratic(1, -3, 2))  # Output: (2.0, 1.0)\n",
        "print(solve_quadratic(1, 2, 1))   # Output: (-1.0, -1.0)\n",
        "print(solve_quadratic(1, 0, 1))   # Output: ()\n"
      ],
      "metadata": {
        "id": "njjhnrvuqlOo",
        "outputId": "87c87d25-6363-4aa3-b7d7-c697697289c3",
        "colab": {
          "base_uri": "https://localhost:8080/"
        }
      },
      "execution_count": 10,
      "outputs": [
        {
          "output_type": "stream",
          "name": "stdout",
          "text": [
            "(2.0, 1.0)\n",
            "(-1.0, -1.0)\n",
            "()\n"
          ]
        }
      ]
    },
    {
      "cell_type": "markdown",
      "source": [
        "factorial of a number"
      ],
      "metadata": {
        "id": "_RNRVOaeqmp1"
      }
    },
    {
      "cell_type": "code",
      "source": [
        "#using recursive approach\n",
        "def fac(n:int):\n",
        "  if n==1 or n==0:\n",
        "    return 1\n",
        "  else:\n",
        "    return n*fac(n-1)\n",
        "fac(10)"
      ],
      "metadata": {
        "id": "gn9dNh1pq--s",
        "outputId": "67d035f0-9167-4f9c-fda6-b18eaded57d1",
        "colab": {
          "base_uri": "https://localhost:8080/"
        }
      },
      "execution_count": 25,
      "outputs": [
        {
          "output_type": "execute_result",
          "data": {
            "text/plain": [
              "3628800"
            ]
          },
          "metadata": {},
          "execution_count": 25
        }
      ]
    },
    {
      "cell_type": "code",
      "source": [
        "#using iterative approach\n",
        "def fac(n:int):\n",
        "  result=1\n",
        "  for i in range(2,n+1):\n",
        "    result = result*i\n",
        "  return result\n",
        "fac(5)"
      ],
      "metadata": {
        "id": "rjwmmALartke",
        "outputId": "71be1539-6055-40d7-918b-5bd0b787b6a6",
        "colab": {
          "base_uri": "https://localhost:8080/"
        }
      },
      "execution_count": 30,
      "outputs": [
        {
          "output_type": "execute_result",
          "data": {
            "text/plain": [
              "120"
            ]
          },
          "metadata": {},
          "execution_count": 30
        }
      ]
    },
    {
      "cell_type": "code",
      "source": [],
      "metadata": {
        "id": "_CxGbnQGwJNZ"
      },
      "execution_count": null,
      "outputs": []
    }
  ]
}
