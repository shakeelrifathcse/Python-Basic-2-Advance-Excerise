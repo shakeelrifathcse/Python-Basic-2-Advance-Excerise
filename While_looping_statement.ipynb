{
  "nbformat": 4,
  "nbformat_minor": 0,
  "metadata": {
    "colab": {
      "provenance": [],
      "authorship_tag": "ABX9TyOVuMuVScH9Xo+UTsqjuOo2",
      "include_colab_link": true
    },
    "kernelspec": {
      "name": "python3",
      "display_name": "Python 3"
    },
    "language_info": {
      "name": "python"
    }
  },
  "cells": [
    {
      "cell_type": "markdown",
      "metadata": {
        "id": "view-in-github",
        "colab_type": "text"
      },
      "source": [
        "<a href=\"https://colab.research.google.com/github/shakeelrifathcse/Python-Basic-2-Advance-Excerise/blob/main/While_looping_statement.ipynb\" target=\"_parent\"><img src=\"https://colab.research.google.com/assets/colab-badge.svg\" alt=\"Open In Colab\"/></a>"
      ]
    },
    {
      "cell_type": "markdown",
      "source": [
        "Write a program to find the sum of the first n natural numbers using a while loop."
      ],
      "metadata": {
        "id": "EJYHbKuBccxL"
      }
    },
    {
      "cell_type": "code",
      "source": [
        "def sum_of_natural_numbers(n):\n",
        "    total = 0\n",
        "    i = 1\n",
        "    while i <= n:\n",
        "        total += i\n",
        "        i += 1\n",
        "    return total\n",
        "\n",
        "# Test case\n",
        "print(sum_of_natural_numbers(5))  # Output: 15\n"
      ],
      "metadata": {
        "colab": {
          "base_uri": "https://localhost:8080/"
        },
        "id": "p_a88gEQdnyg",
        "outputId": "b34b92a3-3a33-4eb0-c423-c5288353b7e5"
      },
      "execution_count": null,
      "outputs": [
        {
          "output_type": "stream",
          "name": "stdout",
          "text": [
            "15\n"
          ]
        }
      ]
    },
    {
      "cell_type": "markdown",
      "source": [
        "Write a program to find the factorial of a given number using a while loop."
      ],
      "metadata": {
        "id": "O0oFlg20epze"
      }
    },
    {
      "cell_type": "code",
      "source": [
        "def factorial(n):\n",
        "  output = 1\n",
        "  count = 1\n",
        "  while count<=n:\n",
        "    output = output * count\n",
        "    count +=1\n",
        "  return output\n",
        "factorial(100)"
      ],
      "metadata": {
        "colab": {
          "base_uri": "https://localhost:8080/"
        },
        "id": "YFeEqo7xgfeu",
        "outputId": "b4d130f8-693d-4ae1-db5c-a24572036642"
      },
      "execution_count": 19,
      "outputs": [
        {
          "output_type": "execute_result",
          "data": {
            "text/plain": [
              "93326215443944152681699238856266700490715968264381621468592963895217599993229915608941463976156518286253697920827223758251185210916864000000000000000000000000"
            ]
          },
          "metadata": {},
          "execution_count": 19
        }
      ]
    },
    {
      "cell_type": "markdown",
      "source": [
        "multiplication table for given no\n"
      ],
      "metadata": {
        "id": "6VCyKOWwra5g"
      }
    },
    {
      "cell_type": "code",
      "source": [
        "def mun(num):\n",
        "  i = 1\n",
        "  while i<=10:\n",
        "    output = i * num\n",
        "    print(f\"{i} x {num} = {output}\")\n",
        "    i = i+1\n",
        "\n",
        "\n",
        "mun(2)"
      ],
      "metadata": {
        "id": "yxFMlLeqhLlS",
        "colab": {
          "base_uri": "https://localhost:8080/"
        },
        "outputId": "31b02f35-5cc2-4099-fbf7-9b9dcfc1b553"
      },
      "execution_count": 14,
      "outputs": [
        {
          "output_type": "stream",
          "name": "stdout",
          "text": [
            "1 x 2 = 2\n",
            "2 x 2 = 4\n",
            "3 x 2 = 6\n",
            "4 x 2 = 8\n",
            "5 x 2 = 10\n",
            "6 x 2 = 12\n",
            "7 x 2 = 14\n",
            "8 x 2 = 16\n",
            "9 x 2 = 18\n",
            "10 x 2 = 20\n"
          ]
        }
      ]
    },
    {
      "cell_type": "code",
      "source": [
        "\n"
      ],
      "metadata": {
        "id": "AZG8ONmNoRUM"
      },
      "execution_count": 3,
      "outputs": []
    },
    {
      "cell_type": "markdown",
      "source": [
        "Description: Write a function to print a right-angled triangle pattern with n rows."
      ],
      "metadata": {
        "id": "MybtljnyoekC"
      }
    },
    {
      "cell_type": "code",
      "source": [
        "def pattern(n):\n",
        "  i = n\n",
        "  while i>=1:\n",
        "    output = i * \"*\"\n",
        "    print(output)\n",
        "    i-=1\n",
        "\n",
        "pattern(5)"
      ],
      "metadata": {
        "colab": {
          "base_uri": "https://localhost:8080/"
        },
        "id": "_r6l8yNEsZhn",
        "outputId": "a2f778ba-e0c5-4f8b-e0dd-b53a7ff1a2f7"
      },
      "execution_count": 5,
      "outputs": [
        {
          "output_type": "stream",
          "name": "stdout",
          "text": [
            "*****\n",
            "****\n",
            "***\n",
            "**\n",
            "*\n"
          ]
        }
      ]
    },
    {
      "cell_type": "code",
      "source": [
        "def pattern(n):\n",
        "  i =1\n",
        "  while i<=n:\n",
        "    output = i * \"*\"\n",
        "    print(output)\n",
        "    i+=1\n",
        "\n",
        "pattern(5)"
      ],
      "metadata": {
        "colab": {
          "base_uri": "https://localhost:8080/"
        },
        "id": "GKeoix6as8TR",
        "outputId": "57402c3e-578c-48f6-b396-ccdb531cf6af"
      },
      "execution_count": 6,
      "outputs": [
        {
          "output_type": "stream",
          "name": "stdout",
          "text": [
            "*\n",
            "**\n",
            "***\n",
            "****\n",
            "*****\n"
          ]
        }
      ]
    },
    {
      "cell_type": "code",
      "source": [],
      "metadata": {
        "id": "cBUZJDzMw4Gl"
      },
      "execution_count": null,
      "outputs": []
    }
  ]
}