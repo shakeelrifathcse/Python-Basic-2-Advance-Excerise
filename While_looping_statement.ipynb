{
  "nbformat": 4,
  "nbformat_minor": 0,
  "metadata": {
    "colab": {
      "provenance": [],
      "authorship_tag": "ABX9TyMFGmU02HC5iA3EutWqqpw7",
      "include_colab_link": true
    },
    "kernelspec": {
      "name": "python3",
      "display_name": "Python 3"
    },
    "language_info": {
      "name": "python"
    }
  },
  "cells": [
    {
      "cell_type": "markdown",
      "metadata": {
        "id": "view-in-github",
        "colab_type": "text"
      },
      "source": [
        "<a href=\"https://colab.research.google.com/github/shakeelrifathcse/Python-Basic-2-Advance-Excerise/blob/main/While_looping_statement.ipynb\" target=\"_parent\"><img src=\"https://colab.research.google.com/assets/colab-badge.svg\" alt=\"Open In Colab\"/></a>"
      ]
    },
    {
      "cell_type": "markdown",
      "source": [
        "Write a program to find the sum of the first n natural numbers using a while loop."
      ],
      "metadata": {
        "id": "EJYHbKuBccxL"
      }
    },
    {
      "cell_type": "code",
      "source": [
        "def sum_of_natural_numbers(n):\n",
        "    total = 0\n",
        "    i = 1\n",
        "    while i <= n:\n",
        "        total += i\n",
        "        i += 1\n",
        "    return total\n",
        "\n",
        "# Test case\n",
        "print(sum_of_natural_numbers(5))  # Output: 15\n"
      ],
      "metadata": {
        "colab": {
          "base_uri": "https://localhost:8080/"
        },
        "id": "p_a88gEQdnyg",
        "outputId": "b34b92a3-3a33-4eb0-c423-c5288353b7e5"
      },
      "execution_count": null,
      "outputs": [
        {
          "output_type": "stream",
          "name": "stdout",
          "text": [
            "15\n"
          ]
        }
      ]
    },
    {
      "cell_type": "markdown",
      "source": [
        "Write a program to find the factorial of a given number using a while loop."
      ],
      "metadata": {
        "id": "O0oFlg20epze"
      }
    },
    {
      "cell_type": "code",
      "source": [
        "def factorial(n):\n",
        "  output = 1\n",
        "  count = 1\n",
        "  while count<=n:\n",
        "    output = output * count\n",
        "    count +=1\n",
        "  return output\n",
        "factorial(5)"
      ],
      "metadata": {
        "colab": {
          "base_uri": "https://localhost:8080/"
        },
        "id": "YFeEqo7xgfeu",
        "outputId": "f4047d7b-0992-43a6-ce34-2f209b03f91e"
      },
      "execution_count": null,
      "outputs": [
        {
          "output_type": "execute_result",
          "data": {
            "text/plain": [
              "120"
            ]
          },
          "metadata": {},
          "execution_count": 11
        }
      ]
    },
    {
      "cell_type": "markdown",
      "source": [
        "multiplication table for given no\n"
      ],
      "metadata": {
        "id": "6VCyKOWwra5g"
      }
    },
    {
      "cell_type": "code",
      "source": [
        "def mun(num):\n",
        "  i = 1\n",
        "  while i<=10:\n",
        "    output = i * num\n",
        "    print(f\"{i} x {num} = {output}\")\n",
        "    i = i+1\n",
        "\n",
        "\n",
        "mun(2)"
      ],
      "metadata": {
        "id": "yxFMlLeqhLlS",
        "colab": {
          "base_uri": "https://localhost:8080/"
        },
        "outputId": "31b02f35-5cc2-4099-fbf7-9b9dcfc1b553"
      },
      "execution_count": null,
      "outputs": [
        {
          "output_type": "stream",
          "name": "stdout",
          "text": [
            "1 x 2 = 2\n",
            "2 x 2 = 4\n",
            "3 x 2 = 6\n",
            "4 x 2 = 8\n",
            "5 x 2 = 10\n",
            "6 x 2 = 12\n",
            "7 x 2 = 14\n",
            "8 x 2 = 16\n",
            "9 x 2 = 18\n",
            "10 x 2 = 20\n"
          ]
        }
      ]
    },
    {
      "cell_type": "code",
      "source": [
        "\n"
      ],
      "metadata": {
        "id": "AZG8ONmNoRUM"
      },
      "execution_count": null,
      "outputs": []
    },
    {
      "cell_type": "markdown",
      "source": [
        "Description: Write a function to print a right-angled triangle pattern with n rows."
      ],
      "metadata": {
        "id": "MybtljnyoekC"
      }
    },
    {
      "cell_type": "code",
      "source": [
        "def pattern(n):\n",
        "  i = n\n",
        "  while i>=1:\n",
        "    output = i * \"*\"\n",
        "    print(output)\n",
        "    i-=1\n",
        "\n",
        "pattern(5)"
      ],
      "metadata": {
        "colab": {
          "base_uri": "https://localhost:8080/"
        },
        "id": "_r6l8yNEsZhn",
        "outputId": "a2f778ba-e0c5-4f8b-e0dd-b53a7ff1a2f7"
      },
      "execution_count": null,
      "outputs": [
        {
          "output_type": "stream",
          "name": "stdout",
          "text": [
            "*****\n",
            "****\n",
            "***\n",
            "**\n",
            "*\n"
          ]
        }
      ]
    },
    {
      "cell_type": "code",
      "source": [
        "def pattern(n):\n",
        "  i =1\n",
        "  while i<=n:\n",
        "    output = i * \"*\"\n",
        "    print(output)\n",
        "    i+=1\n",
        "\n",
        "pattern(5)"
      ],
      "metadata": {
        "colab": {
          "base_uri": "https://localhost:8080/"
        },
        "id": "GKeoix6as8TR",
        "outputId": "57402c3e-578c-48f6-b396-ccdb531cf6af"
      },
      "execution_count": null,
      "outputs": [
        {
          "output_type": "stream",
          "name": "stdout",
          "text": [
            "*\n",
            "**\n",
            "***\n",
            "****\n",
            "*****\n"
          ]
        }
      ]
    },
    {
      "cell_type": "markdown",
      "source": [
        "Create pyramid\n"
      ],
      "metadata": {
        "id": "cBUZJDzMw4Gl"
      }
    },
    {
      "cell_type": "code",
      "source": [
        "def number_pyramid(n):\n",
        "  i = 1\n",
        "  while i<=n:\n",
        "    output =\" \" * (n-i) + \" \".join(str(i)*i)\n",
        "    print(output)\n",
        "    i = i + 1\n",
        "\n",
        "number_pyramid(5)"
      ],
      "metadata": {
        "id": "HYHpBfGKT7wE",
        "outputId": "7b832bc0-abe1-482b-dc76-4ffb4a92ec4d",
        "colab": {
          "base_uri": "https://localhost:8080/"
        }
      },
      "execution_count": null,
      "outputs": [
        {
          "output_type": "stream",
          "name": "stdout",
          "text": [
            "    1\n",
            "   2 2\n",
            "  3 3 3\n",
            " 4 4 4 4\n",
            "5 5 5 5 5\n"
          ]
        }
      ]
    },
    {
      "cell_type": "markdown",
      "source": [
        "Counting Digits in a Number\n",
        "Problem Statement:\n",
        "Write a program to count the number of digits in a given positive integer n using a while loop."
      ],
      "metadata": {
        "id": "Qe8VxvjGUevA"
      }
    },
    {
      "cell_type": "code",
      "source": [
        "def count(n):\n",
        "  i = 0\n",
        "\n",
        "  h=str(n)\n",
        "  while i< len(h):\n",
        "    i = i +1\n",
        "  return i\n",
        "count(12345)\n",
        "\n"
      ],
      "metadata": {
        "id": "W_7WaELRWfqB",
        "outputId": "de0511cb-ada8-4ed0-9af2-69019be0a4f6",
        "colab": {
          "base_uri": "https://localhost:8080/"
        }
      },
      "execution_count": null,
      "outputs": [
        {
          "output_type": "execute_result",
          "data": {
            "text/plain": [
              "5"
            ]
          },
          "metadata": {},
          "execution_count": 34
        }
      ]
    },
    {
      "cell_type": "code",
      "source": [
        "def mul_table(n,m):\n",
        "  i = 1\n",
        "  while i<=m:\n",
        "    output = n * i\n",
        "    print(f\"{n}x{i}={output}\")\n",
        "    i += 1\n",
        "\n",
        "\n",
        "mul_table(100,455)"
      ],
      "metadata": {
        "id": "2C4v1d9UWu6Q",
        "outputId": "e949e9e8-1551-4a8c-d61b-2571d04831ee",
        "colab": {
          "base_uri": "https://localhost:8080/"
        }
      },
      "execution_count": null,
      "outputs": [
        {
          "output_type": "stream",
          "name": "stdout",
          "text": [
            "100x1=100\n",
            "100x2=200\n",
            "100x3=300\n",
            "100x4=400\n",
            "100x5=500\n",
            "100x6=600\n",
            "100x7=700\n",
            "100x8=800\n",
            "100x9=900\n",
            "100x10=1000\n",
            "100x11=1100\n",
            "100x12=1200\n",
            "100x13=1300\n",
            "100x14=1400\n",
            "100x15=1500\n",
            "100x16=1600\n",
            "100x17=1700\n",
            "100x18=1800\n",
            "100x19=1900\n",
            "100x20=2000\n",
            "100x21=2100\n",
            "100x22=2200\n",
            "100x23=2300\n",
            "100x24=2400\n",
            "100x25=2500\n",
            "100x26=2600\n",
            "100x27=2700\n",
            "100x28=2800\n",
            "100x29=2900\n",
            "100x30=3000\n",
            "100x31=3100\n",
            "100x32=3200\n",
            "100x33=3300\n",
            "100x34=3400\n",
            "100x35=3500\n",
            "100x36=3600\n",
            "100x37=3700\n",
            "100x38=3800\n",
            "100x39=3900\n",
            "100x40=4000\n",
            "100x41=4100\n",
            "100x42=4200\n",
            "100x43=4300\n",
            "100x44=4400\n",
            "100x45=4500\n",
            "100x46=4600\n",
            "100x47=4700\n",
            "100x48=4800\n",
            "100x49=4900\n",
            "100x50=5000\n",
            "100x51=5100\n",
            "100x52=5200\n",
            "100x53=5300\n",
            "100x54=5400\n",
            "100x55=5500\n",
            "100x56=5600\n",
            "100x57=5700\n",
            "100x58=5800\n",
            "100x59=5900\n",
            "100x60=6000\n",
            "100x61=6100\n",
            "100x62=6200\n",
            "100x63=6300\n",
            "100x64=6400\n",
            "100x65=6500\n",
            "100x66=6600\n",
            "100x67=6700\n",
            "100x68=6800\n",
            "100x69=6900\n",
            "100x70=7000\n",
            "100x71=7100\n",
            "100x72=7200\n",
            "100x73=7300\n",
            "100x74=7400\n",
            "100x75=7500\n",
            "100x76=7600\n",
            "100x77=7700\n",
            "100x78=7800\n",
            "100x79=7900\n",
            "100x80=8000\n",
            "100x81=8100\n",
            "100x82=8200\n",
            "100x83=8300\n",
            "100x84=8400\n",
            "100x85=8500\n",
            "100x86=8600\n",
            "100x87=8700\n",
            "100x88=8800\n",
            "100x89=8900\n",
            "100x90=9000\n",
            "100x91=9100\n",
            "100x92=9200\n",
            "100x93=9300\n",
            "100x94=9400\n",
            "100x95=9500\n",
            "100x96=9600\n",
            "100x97=9700\n",
            "100x98=9800\n",
            "100x99=9900\n",
            "100x100=10000\n",
            "100x101=10100\n",
            "100x102=10200\n",
            "100x103=10300\n",
            "100x104=10400\n",
            "100x105=10500\n",
            "100x106=10600\n",
            "100x107=10700\n",
            "100x108=10800\n",
            "100x109=10900\n",
            "100x110=11000\n",
            "100x111=11100\n",
            "100x112=11200\n",
            "100x113=11300\n",
            "100x114=11400\n",
            "100x115=11500\n",
            "100x116=11600\n",
            "100x117=11700\n",
            "100x118=11800\n",
            "100x119=11900\n",
            "100x120=12000\n",
            "100x121=12100\n",
            "100x122=12200\n",
            "100x123=12300\n",
            "100x124=12400\n",
            "100x125=12500\n",
            "100x126=12600\n",
            "100x127=12700\n",
            "100x128=12800\n",
            "100x129=12900\n",
            "100x130=13000\n",
            "100x131=13100\n",
            "100x132=13200\n",
            "100x133=13300\n",
            "100x134=13400\n",
            "100x135=13500\n",
            "100x136=13600\n",
            "100x137=13700\n",
            "100x138=13800\n",
            "100x139=13900\n",
            "100x140=14000\n",
            "100x141=14100\n",
            "100x142=14200\n",
            "100x143=14300\n",
            "100x144=14400\n",
            "100x145=14500\n",
            "100x146=14600\n",
            "100x147=14700\n",
            "100x148=14800\n",
            "100x149=14900\n",
            "100x150=15000\n",
            "100x151=15100\n",
            "100x152=15200\n",
            "100x153=15300\n",
            "100x154=15400\n",
            "100x155=15500\n",
            "100x156=15600\n",
            "100x157=15700\n",
            "100x158=15800\n",
            "100x159=15900\n",
            "100x160=16000\n",
            "100x161=16100\n",
            "100x162=16200\n",
            "100x163=16300\n",
            "100x164=16400\n",
            "100x165=16500\n",
            "100x166=16600\n",
            "100x167=16700\n",
            "100x168=16800\n",
            "100x169=16900\n",
            "100x170=17000\n",
            "100x171=17100\n",
            "100x172=17200\n",
            "100x173=17300\n",
            "100x174=17400\n",
            "100x175=17500\n",
            "100x176=17600\n",
            "100x177=17700\n",
            "100x178=17800\n",
            "100x179=17900\n",
            "100x180=18000\n",
            "100x181=18100\n",
            "100x182=18200\n",
            "100x183=18300\n",
            "100x184=18400\n",
            "100x185=18500\n",
            "100x186=18600\n",
            "100x187=18700\n",
            "100x188=18800\n",
            "100x189=18900\n",
            "100x190=19000\n",
            "100x191=19100\n",
            "100x192=19200\n",
            "100x193=19300\n",
            "100x194=19400\n",
            "100x195=19500\n",
            "100x196=19600\n",
            "100x197=19700\n",
            "100x198=19800\n",
            "100x199=19900\n",
            "100x200=20000\n",
            "100x201=20100\n",
            "100x202=20200\n",
            "100x203=20300\n",
            "100x204=20400\n",
            "100x205=20500\n",
            "100x206=20600\n",
            "100x207=20700\n",
            "100x208=20800\n",
            "100x209=20900\n",
            "100x210=21000\n",
            "100x211=21100\n",
            "100x212=21200\n",
            "100x213=21300\n",
            "100x214=21400\n",
            "100x215=21500\n",
            "100x216=21600\n",
            "100x217=21700\n",
            "100x218=21800\n",
            "100x219=21900\n",
            "100x220=22000\n",
            "100x221=22100\n",
            "100x222=22200\n",
            "100x223=22300\n",
            "100x224=22400\n",
            "100x225=22500\n",
            "100x226=22600\n",
            "100x227=22700\n",
            "100x228=22800\n",
            "100x229=22900\n",
            "100x230=23000\n",
            "100x231=23100\n",
            "100x232=23200\n",
            "100x233=23300\n",
            "100x234=23400\n",
            "100x235=23500\n",
            "100x236=23600\n",
            "100x237=23700\n",
            "100x238=23800\n",
            "100x239=23900\n",
            "100x240=24000\n",
            "100x241=24100\n",
            "100x242=24200\n",
            "100x243=24300\n",
            "100x244=24400\n",
            "100x245=24500\n",
            "100x246=24600\n",
            "100x247=24700\n",
            "100x248=24800\n",
            "100x249=24900\n",
            "100x250=25000\n",
            "100x251=25100\n",
            "100x252=25200\n",
            "100x253=25300\n",
            "100x254=25400\n",
            "100x255=25500\n",
            "100x256=25600\n",
            "100x257=25700\n",
            "100x258=25800\n",
            "100x259=25900\n",
            "100x260=26000\n",
            "100x261=26100\n",
            "100x262=26200\n",
            "100x263=26300\n",
            "100x264=26400\n",
            "100x265=26500\n",
            "100x266=26600\n",
            "100x267=26700\n",
            "100x268=26800\n",
            "100x269=26900\n",
            "100x270=27000\n",
            "100x271=27100\n",
            "100x272=27200\n",
            "100x273=27300\n",
            "100x274=27400\n",
            "100x275=27500\n",
            "100x276=27600\n",
            "100x277=27700\n",
            "100x278=27800\n",
            "100x279=27900\n",
            "100x280=28000\n",
            "100x281=28100\n",
            "100x282=28200\n",
            "100x283=28300\n",
            "100x284=28400\n",
            "100x285=28500\n",
            "100x286=28600\n",
            "100x287=28700\n",
            "100x288=28800\n",
            "100x289=28900\n",
            "100x290=29000\n",
            "100x291=29100\n",
            "100x292=29200\n",
            "100x293=29300\n",
            "100x294=29400\n",
            "100x295=29500\n",
            "100x296=29600\n",
            "100x297=29700\n",
            "100x298=29800\n",
            "100x299=29900\n",
            "100x300=30000\n",
            "100x301=30100\n",
            "100x302=30200\n",
            "100x303=30300\n",
            "100x304=30400\n",
            "100x305=30500\n",
            "100x306=30600\n",
            "100x307=30700\n",
            "100x308=30800\n",
            "100x309=30900\n",
            "100x310=31000\n",
            "100x311=31100\n",
            "100x312=31200\n",
            "100x313=31300\n",
            "100x314=31400\n",
            "100x315=31500\n",
            "100x316=31600\n",
            "100x317=31700\n",
            "100x318=31800\n",
            "100x319=31900\n",
            "100x320=32000\n",
            "100x321=32100\n",
            "100x322=32200\n",
            "100x323=32300\n",
            "100x324=32400\n",
            "100x325=32500\n",
            "100x326=32600\n",
            "100x327=32700\n",
            "100x328=32800\n",
            "100x329=32900\n",
            "100x330=33000\n",
            "100x331=33100\n",
            "100x332=33200\n",
            "100x333=33300\n",
            "100x334=33400\n",
            "100x335=33500\n",
            "100x336=33600\n",
            "100x337=33700\n",
            "100x338=33800\n",
            "100x339=33900\n",
            "100x340=34000\n",
            "100x341=34100\n",
            "100x342=34200\n",
            "100x343=34300\n",
            "100x344=34400\n",
            "100x345=34500\n",
            "100x346=34600\n",
            "100x347=34700\n",
            "100x348=34800\n",
            "100x349=34900\n",
            "100x350=35000\n",
            "100x351=35100\n",
            "100x352=35200\n",
            "100x353=35300\n",
            "100x354=35400\n",
            "100x355=35500\n",
            "100x356=35600\n",
            "100x357=35700\n",
            "100x358=35800\n",
            "100x359=35900\n",
            "100x360=36000\n",
            "100x361=36100\n",
            "100x362=36200\n",
            "100x363=36300\n",
            "100x364=36400\n",
            "100x365=36500\n",
            "100x366=36600\n",
            "100x367=36700\n",
            "100x368=36800\n",
            "100x369=36900\n",
            "100x370=37000\n",
            "100x371=37100\n",
            "100x372=37200\n",
            "100x373=37300\n",
            "100x374=37400\n",
            "100x375=37500\n",
            "100x376=37600\n",
            "100x377=37700\n",
            "100x378=37800\n",
            "100x379=37900\n",
            "100x380=38000\n",
            "100x381=38100\n",
            "100x382=38200\n",
            "100x383=38300\n",
            "100x384=38400\n",
            "100x385=38500\n",
            "100x386=38600\n",
            "100x387=38700\n",
            "100x388=38800\n",
            "100x389=38900\n",
            "100x390=39000\n",
            "100x391=39100\n",
            "100x392=39200\n",
            "100x393=39300\n",
            "100x394=39400\n",
            "100x395=39500\n",
            "100x396=39600\n",
            "100x397=39700\n",
            "100x398=39800\n",
            "100x399=39900\n",
            "100x400=40000\n",
            "100x401=40100\n",
            "100x402=40200\n",
            "100x403=40300\n",
            "100x404=40400\n",
            "100x405=40500\n",
            "100x406=40600\n",
            "100x407=40700\n",
            "100x408=40800\n",
            "100x409=40900\n",
            "100x410=41000\n",
            "100x411=41100\n",
            "100x412=41200\n",
            "100x413=41300\n",
            "100x414=41400\n",
            "100x415=41500\n",
            "100x416=41600\n",
            "100x417=41700\n",
            "100x418=41800\n",
            "100x419=41900\n",
            "100x420=42000\n",
            "100x421=42100\n",
            "100x422=42200\n",
            "100x423=42300\n",
            "100x424=42400\n",
            "100x425=42500\n",
            "100x426=42600\n",
            "100x427=42700\n",
            "100x428=42800\n",
            "100x429=42900\n",
            "100x430=43000\n",
            "100x431=43100\n",
            "100x432=43200\n",
            "100x433=43300\n",
            "100x434=43400\n",
            "100x435=43500\n",
            "100x436=43600\n",
            "100x437=43700\n",
            "100x438=43800\n",
            "100x439=43900\n",
            "100x440=44000\n",
            "100x441=44100\n",
            "100x442=44200\n",
            "100x443=44300\n",
            "100x444=44400\n",
            "100x445=44500\n",
            "100x446=44600\n",
            "100x447=44700\n",
            "100x448=44800\n",
            "100x449=44900\n",
            "100x450=45000\n",
            "100x451=45100\n",
            "100x452=45200\n",
            "100x453=45300\n",
            "100x454=45400\n",
            "100x455=45500\n"
          ]
        }
      ]
    },
    {
      "cell_type": "code",
      "source": [
        "def sum(n):\n",
        "  i = 0\n",
        "  output = 0\n",
        "  h = str(n)\n",
        "  while i < len(h):\n",
        "    output = output + int(h[i])\n",
        "    i = i + 1\n",
        "  return output\n",
        "\n",
        "print(sum(1))\n"
      ],
      "metadata": {
        "id": "erJnwMEicw69",
        "outputId": "9b749df4-7c66-47a3-e4e2-c9966283b406",
        "colab": {
          "base_uri": "https://localhost:8080/"
        }
      },
      "execution_count": 10,
      "outputs": [
        {
          "output_type": "stream",
          "name": "stdout",
          "text": [
            "1\n"
          ]
        }
      ]
    },
    {
      "cell_type": "code",
      "source": [
        "def gcd(a, b):\n",
        "    while b != 0:\n",
        "        remainder = a % b\n",
        "        a = b\n",
        "        b = remainder\n",
        "    return a\n",
        "\n",
        "# Test case\n",
        "print(gcd(100,30))\n"
      ],
      "metadata": {
        "id": "xTpncFwEeeF-",
        "outputId": "b6b545e1-8399-4b1c-defa-a69448cfb2ce",
        "colab": {
          "base_uri": "https://localhost:8080/"
        }
      },
      "execution_count": 15,
      "outputs": [
        {
          "output_type": "stream",
          "name": "stdout",
          "text": [
            "10\n"
          ]
        }
      ]
    },
    {
      "cell_type": "code",
      "source": [
        "def fibonacci(n):\n",
        "  output = []\n",
        "  a,b =0,1\n",
        "  while len(output)<n:\n",
        "    output.append(a)\n",
        "    a,b=b,a+b\n",
        "  return output\n",
        "\n",
        "fibonacci(50)"
      ],
      "metadata": {
        "id": "AkiU1OYfnQuD",
        "outputId": "2ab26aaf-b787-4205-9e66-6f25870e99b7",
        "colab": {
          "base_uri": "https://localhost:8080/"
        }
      },
      "execution_count": 19,
      "outputs": [
        {
          "output_type": "execute_result",
          "data": {
            "text/plain": [
              "[0,\n",
              " 1,\n",
              " 1,\n",
              " 2,\n",
              " 3,\n",
              " 5,\n",
              " 8,\n",
              " 13,\n",
              " 21,\n",
              " 34,\n",
              " 55,\n",
              " 89,\n",
              " 144,\n",
              " 233,\n",
              " 377,\n",
              " 610,\n",
              " 987,\n",
              " 1597,\n",
              " 2584,\n",
              " 4181,\n",
              " 6765,\n",
              " 10946,\n",
              " 17711,\n",
              " 28657,\n",
              " 46368,\n",
              " 75025,\n",
              " 121393,\n",
              " 196418,\n",
              " 317811,\n",
              " 514229,\n",
              " 832040,\n",
              " 1346269,\n",
              " 2178309,\n",
              " 3524578,\n",
              " 5702887,\n",
              " 9227465,\n",
              " 14930352,\n",
              " 24157817,\n",
              " 39088169,\n",
              " 63245986,\n",
              " 102334155,\n",
              " 165580141,\n",
              " 267914296,\n",
              " 433494437,\n",
              " 701408733,\n",
              " 1134903170,\n",
              " 1836311903,\n",
              " 2971215073,\n",
              " 4807526976,\n",
              " 7778742049]"
            ]
          },
          "metadata": {},
          "execution_count": 19
        }
      ]
    },
    {
      "cell_type": "markdown",
      "source": [],
      "metadata": {
        "id": "JvnCf1BoqJ-m"
      }
    }
  ]
}