{
  "nbformat": 4,
  "nbformat_minor": 0,
  "metadata": {
    "colab": {
      "provenance": [],
      "authorship_tag": "ABX9TyPX9trA5d1qF3OSB9haQiTO",
      "include_colab_link": true
    },
    "kernelspec": {
      "name": "python3",
      "display_name": "Python 3"
    },
    "language_info": {
      "name": "python"
    }
  },
  "cells": [
    {
      "cell_type": "markdown",
      "metadata": {
        "id": "view-in-github",
        "colab_type": "text"
      },
      "source": [
        "<a href=\"https://colab.research.google.com/github/shakeelrifathcse/Python-Basic-2-Advance-Excerise/blob/main/Python_introduction/python_intro.ipynb\" target=\"_parent\"><img src=\"https://colab.research.google.com/assets/colab-badge.svg\" alt=\"Open In Colab\"/></a>"
      ]
    },
    {
      "cell_type": "markdown",
      "source": [
        "### Starting from scratch!!! ZERO TO HERO MISSION ON PYTHON LEARNING JOURNEY"
      ],
      "metadata": {
        "id": "2-d_GD33gkgO"
      }
    },
    {
      "cell_type": "markdown",
      "source": [
        "### writing my first code"
      ],
      "metadata": {
        "id": "MYlQ_XH6bmPy"
      }
    },
    {
      "cell_type": "code",
      "source": [
        "print(\"Business\")"
      ],
      "metadata": {
        "colab": {
          "base_uri": "https://localhost:8080/"
        },
        "id": "zkZhADdSbo4x",
        "outputId": "19db7788-4ac6-4d12-8fb7-d2d6e21aff2d"
      },
      "execution_count": null,
      "outputs": [
        {
          "output_type": "stream",
          "name": "stdout",
          "text": [
            "Business\n"
          ]
        }
      ]
    },
    {
      "cell_type": "markdown",
      "source": [
        "### Comments in Python\n"
      ],
      "metadata": {
        "id": "m2vHR_-5buKC"
      }
    },
    {
      "cell_type": "code",
      "source": [
        "# single line comment"
      ],
      "metadata": {
        "id": "w64HEBVsbvZl"
      },
      "execution_count": null,
      "outputs": []
    },
    {
      "cell_type": "code",
      "source": [
        "# multi line comment\n",
        "# how are you!"
      ],
      "metadata": {
        "id": "w4vTbyN8cCEc"
      },
      "execution_count": null,
      "outputs": []
    },
    {
      "cell_type": "code",
      "source": [
        "#multi line comment\n",
        "\n",
        "\"\"\"I love data and its science\n",
        "and also its technology\"\"\"\n",
        "print(\"hello\")"
      ],
      "metadata": {
        "colab": {
          "base_uri": "https://localhost:8080/"
        },
        "id": "FyaL5aXvbzzU",
        "outputId": "6d3bbcf3-6b5d-4bfe-e6fb-b4aff358258b"
      },
      "execution_count": null,
      "outputs": [
        {
          "output_type": "stream",
          "name": "stdout",
          "text": [
            "hello\n"
          ]
        }
      ]
    },
    {
      "cell_type": "code",
      "source": [
        "#docstring\n",
        "a,b=map(int,input().split())\n",
        "def mul(a,b):\n",
        "  \"\"\"its multipy the values of a and b\"\"\"\n",
        "  return a*b\n",
        "#By using docstring technique printing only the documents word inside the source code\n",
        "print(mul.__doc__)\n",
        "mul(a,b)"
      ],
      "metadata": {
        "colab": {
          "base_uri": "https://localhost:8080/"
        },
        "id": "WGFZ6cg3b-Bm",
        "outputId": "da4d73e8-c0b0-4153-885f-253215435abf"
      },
      "execution_count": null,
      "outputs": [
        {
          "output_type": "stream",
          "name": "stdout",
          "text": [
            "5 24\n",
            "its multipy the values of a and b\n"
          ]
        },
        {
          "output_type": "execute_result",
          "data": {
            "text/plain": [
              "120"
            ]
          },
          "metadata": {},
          "execution_count": 21
        }
      ]
    },
    {
      "cell_type": "markdown",
      "source": [
        "### python variables\n",
        "\n",
        ">It is like a jar which stores a element in memory space\n",
        "\n"
      ],
      "metadata": {
        "id": "-tfDbTmxeUSP"
      }
    },
    {
      "cell_type": "code",
      "source": [
        "age =25\n",
        "salary=30000\n",
        "name=\"shakeel\"\n",
        "print(age)\n",
        "print(salary)\n",
        "print(name)"
      ],
      "metadata": {
        "colab": {
          "base_uri": "https://localhost:8080/"
        },
        "id": "nzrPGvgmfz71",
        "outputId": "8929460b-8881-4b1c-e1a2-c64753e3b945"
      },
      "execution_count": null,
      "outputs": [
        {
          "output_type": "stream",
          "name": "stdout",
          "text": [
            "25\n",
            "30000\n",
            "shakeel\n"
          ]
        }
      ]
    },
    {
      "cell_type": "markdown",
      "source": [
        "### DATA TYPES"
      ],
      "metadata": {
        "id": "duLXdsRUf3gt"
      }
    },
    {
      "cell_type": "code",
      "source": [
        "X=\"HELLO WORD\"#STRING\n",
        "Y=244 #Int\n",
        "z=3.11 #float\n",
        "l=[1,2,3]#list\n",
        "s={1,2,3,4}#set\n",
        "d={\"name\":\"shakeel\",\"age\":22}#dictionary\n",
        "t=(2,3,4,5)#tuple\n",
        "co=3j #complex number\n",
        "b=b\"sr\"#binary-bytes\n",
        "tf=True #boolean"
      ],
      "metadata": {
        "id": "ocYF793Ug0t_"
      },
      "execution_count": null,
      "outputs": []
    },
    {
      "cell_type": "markdown",
      "source": [
        "### input/output"
      ],
      "metadata": {
        "id": "pnAWgi0_g9kX"
      }
    },
    {
      "cell_type": "code",
      "source": [
        "a = input() # Now you can use the input() function again\n",
        "b = input()\n",
        "c = a + b"
      ],
      "metadata": {
        "colab": {
          "base_uri": "https://localhost:8080/"
        },
        "id": "D9vORMvYh2Wq",
        "outputId": "984aedf7-87b9-4408-e44a-86c0759d3a5b"
      },
      "execution_count": null,
      "outputs": [
        {
          "name": "stdout",
          "output_type": "stream",
          "text": [
            "5\n",
            "5\n"
          ]
        }
      ]
    },
    {
      "cell_type": "code",
      "source": [
        "print(c)# all the input are in string format\n"
      ],
      "metadata": {
        "colab": {
          "base_uri": "https://localhost:8080/"
        },
        "id": "ZhraEdS3ildr",
        "outputId": "da2901e7-0902-486a-8423-866659840ec5"
      },
      "execution_count": null,
      "outputs": [
        {
          "output_type": "stream",
          "name": "stdout",
          "text": [
            "55\n"
          ]
        }
      ]
    },
    {
      "cell_type": "code",
      "source": [
        "int(a)+int(b)"
      ],
      "metadata": {
        "colab": {
          "base_uri": "https://localhost:8080/"
        },
        "id": "4MFW9cUQlErI",
        "outputId": "4fc3b616-8d07-490b-d33f-5517f3190cd9"
      },
      "execution_count": null,
      "outputs": [
        {
          "output_type": "execute_result",
          "data": {
            "text/plain": [
              "10"
            ]
          },
          "metadata": {},
          "execution_count": 55
        }
      ]
    },
    {
      "cell_type": "markdown",
      "source": [
        "### Operators"
      ],
      "metadata": {
        "id": "OrJcxkO3kObz"
      }
    },
    {
      "cell_type": "code",
      "source": [
        "a = 9\n",
        "b = 4\n",
        "add = a + b\n",
        "\n",
        "sub = a - b\n",
        "\n",
        "mul = a * b\n",
        "\n",
        "mod = a % b\n",
        "\n",
        "p = a ** b\n",
        "print(add)\n",
        "print(sub)\n",
        "print(mul)\n",
        "print(mod)\n",
        "print(p)"
      ],
      "metadata": {
        "colab": {
          "base_uri": "https://localhost:8080/"
        },
        "id": "i5lwMsVEpgWu",
        "outputId": "0202b262-3386-4d57-c778-13160ccec761"
      },
      "execution_count": null,
      "outputs": [
        {
          "output_type": "stream",
          "name": "stdout",
          "text": [
            "13\n",
            "5\n",
            "36\n",
            "1\n",
            "6561\n"
          ]
        }
      ]
    },
    {
      "cell_type": "markdown",
      "source": [
        "Arithmetic operators"
      ],
      "metadata": {
        "id": "hQSsWYC1l0nM"
      }
    },
    {
      "cell_type": "code",
      "source": [
        "\"\"\"\n",
        "Precedence of Arithmetic Operators\n",
        "The precedence of Arithmetic Operators in Python is as follows:\n",
        "\n",
        "P – Parentheses\n",
        "E – Exponentiation\n",
        "M – Multiplication (Multiplication and division have the same precedence)\n",
        "D – Division\n",
        "A – Addition (Addition and subtraction have the same precedence)\n",
        "S – Subtraction\n",
        "\"\"\""
      ],
      "metadata": {
        "colab": {
          "base_uri": "https://localhost:8080/",
          "height": 53
        },
        "id": "wueGV5NKlZJE",
        "outputId": "1a208eea-078e-4ace-f9a4-8b75322831f4"
      },
      "execution_count": null,
      "outputs": [
        {
          "output_type": "execute_result",
          "data": {
            "text/plain": [
              "'\\nPrecedence of Arithmetic Operators\\nThe precedence of Arithmetic Operators in Python is as follows:\\n\\nP – Parentheses\\nE – Exponentiation\\nM – Multiplication (Multiplication and division have the same precedence)\\nD – Division\\nA – Addition (Addition and subtraction have the same precedence)\\nS – Subtraction\\n'"
            ],
            "application/vnd.google.colaboratory.intrinsic+json": {
              "type": "string"
            }
          },
          "metadata": {},
          "execution_count": 56
        }
      ]
    },
    {
      "cell_type": "markdown",
      "source": [
        "Logical Operators"
      ],
      "metadata": {
        "id": "clBfzX2Zlt66"
      }
    },
    {
      "cell_type": "markdown",
      "source": [
        "and,or,not"
      ],
      "metadata": {
        "id": "kiKyQsmLmEpb"
      }
    },
    {
      "cell_type": "code",
      "source": [
        "#The Boolean AND operator returns True if both the operands are True else it returns False.\n",
        "a=20\n",
        "b=5\n",
        "c=30\n",
        "if a>b and a>c: #its become false and skip\n",
        "  print(\"a is greater\")\n",
        "elif b>a and b>c:\n",
        "  print(\"b is greater\")\n",
        "else:\n",
        "  print(\"c is greater\")"
      ],
      "metadata": {
        "colab": {
          "base_uri": "https://localhost:8080/"
        },
        "id": "KjCUW7p1maRw",
        "outputId": "97e0bf20-5d80-41fb-f58b-e8fa0e42f96c"
      },
      "execution_count": null,
      "outputs": [
        {
          "output_type": "stream",
          "name": "stdout",
          "text": [
            "c is greater\n"
          ]
        }
      ]
    },
    {
      "cell_type": "code",
      "source": [
        "#The Boolean OR operator returns True if either of the operands is True.\n",
        "a=20\n",
        "b=5\n",
        "c=30\n",
        "if a>b or a>c: #its become true and print this line\n",
        "  print(\"a is greater\")\n",
        "elif b>a or b>c:\n",
        "  print(\"b is greater\")\n",
        "else:\n",
        "  print(\"c is greater\")"
      ],
      "metadata": {
        "colab": {
          "base_uri": "https://localhost:8080/"
        },
        "id": "G4EWOCDsnECv",
        "outputId": "82c09ab1-69c5-4142-9860-cfba508fe9cc"
      },
      "execution_count": null,
      "outputs": [
        {
          "output_type": "stream",
          "name": "stdout",
          "text": [
            "a is greater\n"
          ]
        }
      ]
    },
    {
      "cell_type": "code",
      "source": [
        "#The Boolean NOT operator works with a single boolean value. If the boolean value is True it returns False and vice-versa.\n",
        "a=20\n",
        "b=50\n",
        "c=30\n",
        "if not a>b: #its become true and print this line\n",
        "  print(\"a is greater\")"
      ],
      "metadata": {
        "colab": {
          "base_uri": "https://localhost:8080/"
        },
        "id": "gyYNNSlGn4XN",
        "outputId": "2f09cdf0-8b05-4200-b00f-6c3810091bcd"
      },
      "execution_count": null,
      "outputs": [
        {
          "output_type": "stream",
          "name": "stdout",
          "text": [
            "a is greater\n"
          ]
        }
      ]
    },
    {
      "cell_type": "code",
      "source": [
        "a=int(input())\n",
        "\n",
        "b=int(input())\n",
        "\n",
        "if a>10 and b>10:\n",
        "  print(\"true\")\n",
        "else:\n",
        "  print(\"false\")"
      ],
      "metadata": {
        "id": "diYgmwikoWTg",
        "colab": {
          "base_uri": "https://localhost:8080/"
        },
        "outputId": "e46eac8b-bc79-4cab-9ce1-aeb0cd92ee0e"
      },
      "execution_count": null,
      "outputs": [
        {
          "output_type": "stream",
          "name": "stdout",
          "text": [
            "1\n",
            "5\n",
            "false\n"
          ]
        }
      ]
    },
    {
      "cell_type": "code",
      "source": [
        "x= True\n",
        "y=False\n",
        "print(x and y)\n",
        "print(x or y)\n",
        "print(not x)"
      ],
      "metadata": {
        "colab": {
          "base_uri": "https://localhost:8080/"
        },
        "id": "Ca-zXLXXU-zu",
        "outputId": "50d59243-35d1-4f58-c3ee-e904199dac1c"
      },
      "execution_count": null,
      "outputs": [
        {
          "output_type": "stream",
          "name": "stdout",
          "text": [
            "False\n",
            "True\n",
            "False\n"
          ]
        }
      ]
    },
    {
      "cell_type": "code",
      "source": [
        "temp =25\n",
        "if temp>20 and temp<30:\n",
        "  print(\"it's warm\")\n",
        "if temp<20 or temp>30:\n",
        "  print(\"it's cold\")\n",
        "if not temp:\n",
        "  print(\"Temperature is unknown\")"
      ],
      "metadata": {
        "colab": {
          "base_uri": "https://localhost:8080/"
        },
        "id": "Oj6f9PZUYF1S",
        "outputId": "0f3b6e83-4335-4b01-8569-488e6d4c3090"
      },
      "execution_count": null,
      "outputs": [
        {
          "output_type": "stream",
          "name": "stdout",
          "text": [
            "it's warm\n"
          ]
        }
      ]
    },
    {
      "cell_type": "code",
      "source": [
        "a = 15\n",
        "b= 10\n",
        "if a==b:\n",
        "  print(\"a is equal to b\")\n",
        "if a>b:\n",
        "  print(\"a is greater than b\")\n",
        "else:\n",
        "  print(\"b is greater than a\")\n",
        "if ((a and b) >0):\n",
        "  print(\"both are positive\")\n",
        "if ((a or b)<0):\n",
        "  print(\"at least one is negative\")"
      ],
      "metadata": {
        "colab": {
          "base_uri": "https://localhost:8080/"
        },
        "id": "MLe-cgJOZgTm",
        "outputId": "0b7f7ef3-fa10-4bc6-adc4-d7284b35b940"
      },
      "execution_count": null,
      "outputs": [
        {
          "output_type": "stream",
          "name": "stdout",
          "text": [
            "a is greater than b\n",
            "both are positive\n"
          ]
        }
      ]
    },
    {
      "cell_type": "markdown",
      "source": [
        "Exercise 4: Using Logical Operators in a Real-World Scenario\n"
      ],
      "metadata": {
        "id": "X1_jl4BtbhJq"
      }
    },
    {
      "cell_type": "code",
      "source": [
        "age =18\n",
        "has_license=True\n",
        "if age>=18 and has_license:\n",
        "  print(\"you can drive\")\n",
        "if age<18 or not has_license:\n",
        "  print(\"you can't drive\")"
      ],
      "metadata": {
        "colab": {
          "base_uri": "https://localhost:8080/"
        },
        "id": "1_HgBi34ceEG",
        "outputId": "cffe355e-f468-423f-ded0-52cc3d7f8de2"
      },
      "execution_count": null,
      "outputs": [
        {
          "output_type": "stream",
          "name": "stdout",
          "text": [
            "you can drive\n"
          ]
        }
      ]
    },
    {
      "cell_type": "code",
      "source": [
        "score = 85\n",
        "if score>=90:\n",
        "  print(\"Excellent\")\n",
        "if score>=70 and score<=89:\n",
        "  print(\"good\")\n",
        "if score>=50 and score<=69:\n",
        "  print(\"pass\")\n",
        "if score<50:\n",
        "  print(\"fail\")"
      ],
      "metadata": {
        "colab": {
          "base_uri": "https://localhost:8080/"
        },
        "id": "QvOTjO4mcvak",
        "outputId": "dc469383-9f5c-4be8-9f96-9b3e07e89d61"
      },
      "execution_count": null,
      "outputs": [
        {
          "output_type": "stream",
          "name": "stdout",
          "text": [
            "good\n"
          ]
        }
      ]
    },
    {
      "cell_type": "code",
      "source": [
        "def is_prime(n):\n",
        "  if n%1==0 and n%n==0:\n",
        "    return True\n",
        "  else:\n",
        "    return False\n",
        "is_prime(6)\n"
      ],
      "metadata": {
        "colab": {
          "base_uri": "https://localhost:8080/"
        },
        "id": "5Bf24ApiejAM",
        "outputId": "5dd99377-0ca8-49cc-fcce-8871d1c8cfaa"
      },
      "execution_count": null,
      "outputs": [
        {
          "output_type": "execute_result",
          "data": {
            "text/plain": [
              "True"
            ]
          },
          "metadata": {},
          "execution_count": 16
        }
      ]
    },
    {
      "cell_type": "markdown",
      "source": [
        "Problem:\n",
        "Write a function is_teenager(age) that takes an integer age and returns True if the person is a teenager (age between 13 and 19, inclusive), and False otherwise.\n"
      ],
      "metadata": {
        "id": "U9jJDTaLfl6b"
      }
    },
    {
      "cell_type": "code",
      "source": [
        "def is_teenager(age):\n",
        "  if age>=13 and age<=19:\n",
        "    return True\n",
        "  else:\n",
        "    return False\n",
        "is_teenager(13)"
      ],
      "metadata": {
        "colab": {
          "base_uri": "https://localhost:8080/"
        },
        "id": "7wWNt1NZhmfr",
        "outputId": "b80d4963-9d6e-415b-953d-3d26d465a6ab"
      },
      "execution_count": null,
      "outputs": [
        {
          "output_type": "execute_result",
          "data": {
            "text/plain": [
              "True"
            ]
          },
          "metadata": {},
          "execution_count": 22
        }
      ]
    },
    {
      "cell_type": "markdown",
      "source": [
        "Write a function is_valid_triangle(a, b, c) that takes three integers a, b, and c representing the lengths of the sides of a triangle. The function should return True if the sides form a valid triangle, and False otherwise. A triangle is valid if the sum of any two sides is greater than the third side.\n"
      ],
      "metadata": {
        "id": "bcpYd9Ath8Oj"
      }
    },
    {
      "cell_type": "code",
      "source": [
        "def is_valid_triangle(a,b,c):\n",
        "  if (a+b)>c and (b+c)>a and (a+c)>b:\n",
        "    print(\"true\")\n",
        "  else:\n",
        "    print(\"false\")\n",
        "print(is_valid_triangle(6, 5, 10))"
      ],
      "metadata": {
        "colab": {
          "base_uri": "https://localhost:8080/"
        },
        "id": "3vfuMamgATNN",
        "outputId": "06a107c5-d998-40c6-c16d-30485d83b082"
      },
      "execution_count": null,
      "outputs": [
        {
          "output_type": "stream",
          "name": "stdout",
          "text": [
            "true\n",
            "None\n"
          ]
        }
      ]
    },
    {
      "cell_type": "markdown",
      "source": [
        "Write a function is_even(n) that takes an integer n and returns True if the number is even, and False if it is odd."
      ],
      "metadata": {
        "id": "8A4fDE2SDK_O"
      }
    },
    {
      "cell_type": "code",
      "source": [
        "def is_even(n):\n",
        "  if n % 2==0:\n",
        "    return True\n",
        "  else:\n",
        "    return False\n",
        "print(is_even(4))\n",
        "print(is_even(7))\n"
      ],
      "metadata": {
        "colab": {
          "base_uri": "https://localhost:8080/"
        },
        "id": "LHJ4DgOOEJaD",
        "outputId": "ea856ab1-6116-488c-a00f-e9be97b58c71"
      },
      "execution_count": null,
      "outputs": [
        {
          "output_type": "stream",
          "name": "stdout",
          "text": [
            "True\n",
            "False\n"
          ]
        }
      ]
    },
    {
      "cell_type": "code",
      "source": [],
      "metadata": {
        "id": "NcwNM6psEcVg"
      },
      "execution_count": null,
      "outputs": []
    }
  ]
}