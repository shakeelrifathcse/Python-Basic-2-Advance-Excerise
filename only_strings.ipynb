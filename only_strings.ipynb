{
  "nbformat": 4,
  "nbformat_minor": 0,
  "metadata": {
    "colab": {
      "provenance": [],
      "authorship_tag": "ABX9TyNv5pEk1s6RdL11aIc9zl+Z",
      "include_colab_link": true
    },
    "kernelspec": {
      "name": "python3",
      "display_name": "Python 3"
    },
    "language_info": {
      "name": "python"
    }
  },
  "cells": [
    {
      "cell_type": "markdown",
      "metadata": {
        "id": "view-in-github",
        "colab_type": "text"
      },
      "source": [
        "<a href=\"https://colab.research.google.com/github/shakeelrifathcse/Python-Basic-2-Advance-Excerise/blob/main/only_strings.ipynb\" target=\"_parent\"><img src=\"https://colab.research.google.com/assets/colab-badge.svg\" alt=\"Open In Colab\"/></a>"
      ]
    },
    {
      "cell_type": "code",
      "execution_count": 1,
      "metadata": {
        "colab": {
          "base_uri": "https://localhost:8080/"
        },
        "id": "9x6SeRIJdgFZ",
        "outputId": "a90a90b5-a474-409d-bf72-867d7b67a6ac"
      },
      "outputs": [
        {
          "output_type": "stream",
          "name": "stdout",
          "text": [
            "Enter your name: asifa\n",
            "Hello, asifa!\n"
          ]
        }
      ],
      "source": [
        "name = input(\"Enter your name: \")\n",
        "print(\"Hello, \" + name + \"!\")\n"
      ]
    },
    {
      "cell_type": "code",
      "source": [
        "s = \"shakeelrifath\"\n",
        "h = len(s)\n",
        "print(h)"
      ],
      "metadata": {
        "colab": {
          "base_uri": "https://localhost:8080/"
        },
        "id": "c6-y7pR7dknI",
        "outputId": "f7d58ebf-d93a-4963-a6d9-f2b4a33715ba"
      },
      "execution_count": 4,
      "outputs": [
        {
          "output_type": "stream",
          "name": "stdout",
          "text": [
            "17\n"
          ]
        }
      ]
    },
    {
      "cell_type": "code",
      "source": [
        "s=\"hindustan\"\n",
        "print(\"first three word:\",s[3:-1])"
      ],
      "metadata": {
        "colab": {
          "base_uri": "https://localhost:8080/"
        },
        "id": "vgRrd-mEdyno",
        "outputId": "f4ad5036-24bf-4772-e987-412b44703311"
      },
      "execution_count": 12,
      "outputs": [
        {
          "output_type": "stream",
          "name": "stdout",
          "text": [
            "first three word: dusta\n"
          ]
        }
      ]
    },
    {
      "cell_type": "code",
      "source": [
        "s = \"malik khan\"\n",
        "if \"mlik\" in s:\n",
        "  print(\"true\")\n",
        "else:\n",
        "  print(\"false\")"
      ],
      "metadata": {
        "colab": {
          "base_uri": "https://localhost:8080/"
        },
        "id": "OXjxjrdieADD",
        "outputId": "630e8538-b8c4-47fb-d1eb-76620ca3def6"
      },
      "execution_count": 15,
      "outputs": [
        {
          "output_type": "stream",
          "name": "stdout",
          "text": [
            "false\n"
          ]
        }
      ]
    },
    {
      "cell_type": "code",
      "source": [
        "s = \"malik khan\"\n",
        "h = \"malik khan\"\n",
        "if s is h:\n",
        "  print(\"t\")\n",
        "else:\n",
        "  print(\"f\")\n",
        "del s\n",
        "del h"
      ],
      "metadata": {
        "colab": {
          "base_uri": "https://localhost:8080/"
        },
        "id": "ArtI08fTeijp",
        "outputId": "b14ecd26-ae1b-410d-c297-51c0581162b1"
      },
      "execution_count": 19,
      "outputs": [
        {
          "output_type": "stream",
          "name": "stdout",
          "text": [
            "f\n"
          ]
        }
      ]
    },
    {
      "cell_type": "code",
      "source": [
        "s = \"malik khan\"\n",
        "h = \"malik khan\"\n",
        "if s is h:\n",
        "    print(\"t\")\n",
        "else:\n",
        "    print(\"f\")\n"
      ],
      "metadata": {
        "colab": {
          "base_uri": "https://localhost:8080/"
        },
        "id": "mZXbUviafHxQ",
        "outputId": "593d8daa-dd16-470d-e42e-3c6190323b9b"
      },
      "execution_count": 20,
      "outputs": [
        {
          "output_type": "stream",
          "name": "stdout",
          "text": [
            "f\n"
          ]
        }
      ]
    },
    {
      "cell_type": "code",
      "source": [
        "def reverse_string(s):\n",
        "    return s[::-1]\n",
        "\n",
        "result = reverse_string(\"Python\")\n",
        "print(\"Reversed:\", result)\n"
      ],
      "metadata": {
        "colab": {
          "base_uri": "https://localhost:8080/"
        },
        "id": "DwxaECQ_febr",
        "outputId": "a778335b-9714-4593-a19b-967108b9ac6d"
      },
      "execution_count": 30,
      "outputs": [
        {
          "output_type": "stream",
          "name": "stdout",
          "text": [
            "Reversed: nohtyP\n"
          ]
        }
      ]
    },
    {
      "cell_type": "code",
      "source": [
        "def is_palindrome(s):\n",
        "    return s == s[::-1]\n",
        "\n",
        "\n",
        "result = is_palindrome(\"sahas\")\n",
        "print(\"Is palindrome:\", result)\n"
      ],
      "metadata": {
        "colab": {
          "base_uri": "https://localhost:8080/"
        },
        "id": "VrZKf__OfvMt",
        "outputId": "71713dae-a16c-47ac-de32-0bb0dad28c1a"
      },
      "execution_count": 37,
      "outputs": [
        {
          "output_type": "stream",
          "name": "stdout",
          "text": [
            "Is palindrome: True\n"
          ]
        }
      ]
    },
    {
      "cell_type": "code",
      "source": [
        "def count_occurrences(s, char):\n",
        "    return s.count(char)\n",
        "\n",
        "result = count_occurrences(\"bananaaaa\", \"a\")\n",
        "print(\"Occurrences of 'a':\", result)\n"
      ],
      "metadata": {
        "colab": {
          "base_uri": "https://localhost:8080/"
        },
        "id": "_5JLMZXXhK3A",
        "outputId": "338c24ed-83c9-4c43-91f5-c57325d074d7"
      },
      "execution_count": 39,
      "outputs": [
        {
          "output_type": "stream",
          "name": "stdout",
          "text": [
            "Occurrences of 'a': 6\n"
          ]
        }
      ]
    },
    {
      "cell_type": "code",
      "source": [
        "s = \"Hello World\"\n",
        "print(\"Uppercase:\", s.upper())\n",
        "print(\"Lowercase:\", s.lower())\n"
      ],
      "metadata": {
        "colab": {
          "base_uri": "https://localhost:8080/"
        },
        "id": "JsV1iZtfiD30",
        "outputId": "7cc342f4-c46d-4f61-d6bd-e43f76aa9f54"
      },
      "execution_count": 41,
      "outputs": [
        {
          "output_type": "stream",
          "name": "stdout",
          "text": [
            "Uppercase: HELLO WORLD\n",
            "Lowercase: hello world\n",
            "Hello world\n"
          ]
        }
      ]
    },
    {
      "cell_type": "code",
      "source": [
        "h = \"bala is fool\"\n",
        "sp = h.split()               # Split the string into a list of words\n",
        "c = [word.capitalize() for word in sp]  # Capitalize each word in the list\n",
        "jo = ' '.join(c)            # Join the capitalized words back into a single string\n",
        "print(jo)\n"
      ],
      "metadata": {
        "colab": {
          "base_uri": "https://localhost:8080/"
        },
        "id": "lJHmBSMHiLxb",
        "outputId": "b7946942-640e-4fce-a199-39a954e23b39"
      },
      "execution_count": 45,
      "outputs": [
        {
          "output_type": "stream",
          "name": "stdout",
          "text": [
            "Bala Is Fool\n"
          ]
        }
      ]
    },
    {
      "cell_type": "code",
      "source": [],
      "metadata": {
        "id": "TTJ38c8giuBA"
      },
      "execution_count": null,
      "outputs": []
    }
  ]
}