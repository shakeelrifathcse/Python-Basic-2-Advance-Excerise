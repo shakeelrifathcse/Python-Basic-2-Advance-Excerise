{
  "nbformat": 4,
  "nbformat_minor": 0,
  "metadata": {
    "colab": {
      "provenance": [],
      "authorship_tag": "ABX9TyOszJ6T+9kIoq5LXOUXcrRE",
      "include_colab_link": true
    },
    "kernelspec": {
      "name": "python3",
      "display_name": "Python 3"
    },
    "language_info": {
      "name": "python"
    }
  },
  "cells": [
    {
      "cell_type": "markdown",
      "metadata": {
        "id": "view-in-github",
        "colab_type": "text"
      },
      "source": [
        "<a href=\"https://colab.research.google.com/github/shakeelrifathcse/Python-Basic-2-Advance-Excerise/blob/main/forloop.ipynb\" target=\"_parent\"><img src=\"https://colab.research.google.com/assets/colab-badge.svg\" alt=\"Open In Colab\"/></a>"
      ]
    },
    {
      "cell_type": "code",
      "execution_count": 3,
      "metadata": {
        "colab": {
          "base_uri": "https://localhost:8080/"
        },
        "id": "Um6jpXlFcwZz",
        "outputId": "88d85ed0-a917-4bdd-be6c-704ebc96714f"
      },
      "outputs": [
        {
          "output_type": "stream",
          "name": "stdout",
          "text": [
            "5\n",
            "15\n",
            "6\n",
            "8\n",
            "10\n",
            "12\n",
            "14\n"
          ]
        }
      ],
      "source": [
        " a = int(input())\n",
        " b = int(input())\n",
        "\n",
        " for i in range(a+1,b):\n",
        "  print(i)"
      ]
    },
    {
      "cell_type": "code",
      "source": [
        "for i in range(2,11,2):\n",
        "  print(i)"
      ],
      "metadata": {
        "colab": {
          "base_uri": "https://localhost:8080/"
        },
        "id": "S5BhFj9VdVLR",
        "outputId": "a8643c2b-62b0-4501-acb3-d6c80f1ea159"
      },
      "execution_count": 7,
      "outputs": [
        {
          "output_type": "stream",
          "name": "stdout",
          "text": [
            "2\n",
            "4\n",
            "6\n",
            "8\n",
            "10\n"
          ]
        }
      ]
    },
    {
      "cell_type": "code",
      "source": [
        "output = 0\n",
        "for i in range(1,10):\n",
        "  if i%2 !=0: continue\n",
        "\n",
        "  else:\n",
        "    print(i)\n",
        "    output +=1\n",
        "\n",
        "\n",
        "print(\"total count:\",output)\n",
        ""
      ],
      "metadata": {
        "colab": {
          "base_uri": "https://localhost:8080/"
        },
        "id": "98FHO5THejHP",
        "outputId": "0c887d16-e61c-4406-e682-39fd675eec9e"
      },
      "execution_count": 20,
      "outputs": [
        {
          "output_type": "stream",
          "name": "stdout",
          "text": [
            "2\n",
            "4\n",
            "6\n",
            "8\n",
            "total count: 4\n"
          ]
        }
      ]
    },
    {
      "cell_type": "code",
      "source": [
        "odd = 0\n",
        "even = 0\n",
        "for i in range(1,11):\n",
        "  if i%2==0:\n",
        "    even +=1\n",
        "  else:\n",
        "    odd +=1\n",
        "\n",
        "print(odd)\n",
        "print(even)"
      ],
      "metadata": {
        "colab": {
          "base_uri": "https://localhost:8080/"
        },
        "id": "6w0fpQbfgdzz",
        "outputId": "66b46e0a-aac9-4918-e664-47ac0935e5a8"
      },
      "execution_count": 22,
      "outputs": [
        {
          "output_type": "stream",
          "name": "stdout",
          "text": [
            "5\n",
            "5\n"
          ]
        }
      ]
    },
    {
      "cell_type": "markdown",
      "source": [
        "Count the number which are divisible by both\n",
        "\n",
        "3 and 5."
      ],
      "metadata": {
        "id": "f9mpTtVijMf-"
      }
    },
    {
      "cell_type": "code",
      "source": [
        "count = 0\n",
        "for i in range(1,101):\n",
        "  if i%3==0 and i%5==0 :\n",
        "    count += 1\n",
        "print(count)"
      ],
      "metadata": {
        "colab": {
          "base_uri": "https://localhost:8080/"
        },
        "id": "4wV86L4mkalZ",
        "outputId": "3c988b15-a052-41d6-e91c-ae5eb183feea"
      },
      "execution_count": 25,
      "outputs": [
        {
          "output_type": "stream",
          "name": "stdout",
          "text": [
            "6\n"
          ]
        }
      ]
    },
    {
      "cell_type": "markdown",
      "source": [
        " Q6. Write a program to compute the sum Of the first 5 natural numbers"
      ],
      "metadata": {
        "id": "2vbozaa-ktgB"
      }
    },
    {
      "cell_type": "code",
      "source": [
        "sum = 0\n",
        "for i in range(6):\n",
        "  sum = sum + i\n",
        "print(sum)"
      ],
      "metadata": {
        "colab": {
          "base_uri": "https://localhost:8080/"
        },
        "id": "KdJPzHxEltvv",
        "outputId": "4edfa6ba-032c-4067-e4a3-6487ac31a9dc"
      },
      "execution_count": 26,
      "outputs": [
        {
          "output_type": "stream",
          "name": "stdout",
          "text": [
            "15\n"
          ]
        }
      ]
    },
    {
      "cell_type": "markdown",
      "source": [
        "Q7. Write a program to read 10 numbers from the keyboard and find their sum\n",
        "and average)"
      ],
      "metadata": {
        "id": "FiJDU4r5mCO8"
      }
    },
    {
      "cell_type": "code",
      "source": [
        "a=[]\n",
        "for i in range(10):\n",
        "  num = int(input())\n",
        "  a.append(num)\n",
        "\n",
        "sum = 0\n",
        "for j in a:\n",
        "  sum = sum + j\n",
        "\n",
        "avg = sum/len(a)\n",
        "\n",
        "print(sum)\n",
        "print(avg)\n",
        "\n"
      ],
      "metadata": {
        "colab": {
          "base_uri": "https://localhost:8080/"
        },
        "id": "_7-kEtgWoH0X",
        "outputId": "4e4c3f1a-0e7c-4f6a-d319-07bb1f66aa32"
      },
      "execution_count": 33,
      "outputs": [
        {
          "output_type": "stream",
          "name": "stdout",
          "text": [
            "5\n",
            "5\n",
            "5\n",
            "5\n",
            "5\n",
            "5\n",
            "5\n",
            "5\n",
            "5\n",
            "5\n",
            "50\n",
            "5.0\n"
          ]
        }
      ]
    },
    {
      "cell_type": "code",
      "source": [
        "555"
      ],
      "metadata": {
        "id": "5I3A61UPntr9"
      },
      "execution_count": null,
      "outputs": []
    }
  ]
}