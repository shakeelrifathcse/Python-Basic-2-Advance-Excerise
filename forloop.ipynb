{
  "nbformat": 4,
  "nbformat_minor": 0,
  "metadata": {
    "colab": {
      "provenance": [],
      "authorship_tag": "ABX9TyMuNVRuGoGgR7ocftDGSat1",
      "include_colab_link": true
    },
    "kernelspec": {
      "name": "python3",
      "display_name": "Python 3"
    },
    "language_info": {
      "name": "python"
    }
  },
  "cells": [
    {
      "cell_type": "markdown",
      "metadata": {
        "id": "view-in-github",
        "colab_type": "text"
      },
      "source": [
        "<a href=\"https://colab.research.google.com/github/shakeelrifathcse/Python-Basic-2-Advance-Excerise/blob/main/forloop.ipynb\" target=\"_parent\"><img src=\"https://colab.research.google.com/assets/colab-badge.svg\" alt=\"Open In Colab\"/></a>"
      ]
    },
    {
      "cell_type": "code",
      "execution_count": null,
      "metadata": {
        "colab": {
          "base_uri": "https://localhost:8080/"
        },
        "id": "Um6jpXlFcwZz",
        "outputId": "88d85ed0-a917-4bdd-be6c-704ebc96714f"
      },
      "outputs": [
        {
          "output_type": "stream",
          "name": "stdout",
          "text": [
            "5\n",
            "15\n",
            "6\n",
            "8\n",
            "10\n",
            "12\n",
            "14\n"
          ]
        }
      ],
      "source": [
        " a = int(input())\n",
        " b = int(input())\n",
        "\n",
        " for i in range(a+1,b):\n",
        "  print(i)"
      ]
    },
    {
      "cell_type": "code",
      "source": [
        "for i in range(2,11,2):\n",
        "  print(i)"
      ],
      "metadata": {
        "colab": {
          "base_uri": "https://localhost:8080/"
        },
        "id": "S5BhFj9VdVLR",
        "outputId": "a8643c2b-62b0-4501-acb3-d6c80f1ea159"
      },
      "execution_count": null,
      "outputs": [
        {
          "output_type": "stream",
          "name": "stdout",
          "text": [
            "2\n",
            "4\n",
            "6\n",
            "8\n",
            "10\n"
          ]
        }
      ]
    },
    {
      "cell_type": "code",
      "source": [
        "output = 0\n",
        "for i in range(1,10):\n",
        "  if i%2 !=0: continue\n",
        "\n",
        "  else:\n",
        "    print(i)\n",
        "    output +=1\n",
        "\n",
        "\n",
        "print(\"total count:\",output)\n"
      ],
      "metadata": {
        "colab": {
          "base_uri": "https://localhost:8080/"
        },
        "id": "98FHO5THejHP",
        "outputId": "0c887d16-e61c-4406-e682-39fd675eec9e"
      },
      "execution_count": null,
      "outputs": [
        {
          "output_type": "stream",
          "name": "stdout",
          "text": [
            "2\n",
            "4\n",
            "6\n",
            "8\n",
            "total count: 4\n"
          ]
        }
      ]
    },
    {
      "cell_type": "code",
      "source": [
        "odd = 0\n",
        "even = 0\n",
        "for i in range(1,11):\n",
        "  if i%2==0:\n",
        "    even +=1\n",
        "  else:\n",
        "    odd +=1\n",
        "\n",
        "print(odd)\n",
        "print(even)"
      ],
      "metadata": {
        "colab": {
          "base_uri": "https://localhost:8080/"
        },
        "id": "6w0fpQbfgdzz",
        "outputId": "66b46e0a-aac9-4918-e664-47ac0935e5a8"
      },
      "execution_count": null,
      "outputs": [
        {
          "output_type": "stream",
          "name": "stdout",
          "text": [
            "5\n",
            "5\n"
          ]
        }
      ]
    },
    {
      "cell_type": "markdown",
      "source": [
        "Count the number which are divisible by both\n",
        "\n",
        "3 and 5."
      ],
      "metadata": {
        "id": "f9mpTtVijMf-"
      }
    },
    {
      "cell_type": "code",
      "source": [
        "count = 0\n",
        "for i in range(1,101):\n",
        "  if i%3==0 and i%5==0 :\n",
        "    count += 1\n",
        "print(count)"
      ],
      "metadata": {
        "colab": {
          "base_uri": "https://localhost:8080/"
        },
        "id": "4wV86L4mkalZ",
        "outputId": "3c988b15-a052-41d6-e91c-ae5eb183feea"
      },
      "execution_count": null,
      "outputs": [
        {
          "output_type": "stream",
          "name": "stdout",
          "text": [
            "6\n"
          ]
        }
      ]
    },
    {
      "cell_type": "markdown",
      "source": [
        " Q6. Write a program to compute the sum Of the first 5 natural numbers"
      ],
      "metadata": {
        "id": "2vbozaa-ktgB"
      }
    },
    {
      "cell_type": "code",
      "source": [
        "sum = 0\n",
        "for i in range(6):\n",
        "  sum = sum + i\n",
        "print(sum)"
      ],
      "metadata": {
        "colab": {
          "base_uri": "https://localhost:8080/"
        },
        "id": "KdJPzHxEltvv",
        "outputId": "4edfa6ba-032c-4067-e4a3-6487ac31a9dc"
      },
      "execution_count": null,
      "outputs": [
        {
          "output_type": "stream",
          "name": "stdout",
          "text": [
            "15\n"
          ]
        }
      ]
    },
    {
      "cell_type": "markdown",
      "source": [
        "Q7. Write a program to read 10 numbers from the keyboard and find their sum\n",
        "and average)"
      ],
      "metadata": {
        "id": "FiJDU4r5mCO8"
      }
    },
    {
      "cell_type": "code",
      "source": [
        "a=[]\n",
        "for i in range(10):\n",
        "  num = int(input())\n",
        "  a.append(num)\n",
        "\n",
        "sum = 0\n",
        "for j in a:\n",
        "  sum = sum + j\n",
        "\n",
        "avg = sum/len(a)\n",
        "\n",
        "print(sum)\n",
        "print(avg)\n",
        "\n"
      ],
      "metadata": {
        "colab": {
          "base_uri": "https://localhost:8080/"
        },
        "id": "_7-kEtgWoH0X",
        "outputId": "4e4c3f1a-0e7c-4f6a-d319-07bb1f66aa32"
      },
      "execution_count": null,
      "outputs": [
        {
          "output_type": "stream",
          "name": "stdout",
          "text": [
            "5\n",
            "5\n",
            "5\n",
            "5\n",
            "5\n",
            "5\n",
            "5\n",
            "5\n",
            "5\n",
            "5\n",
            "50\n",
            "5.0\n"
          ]
        }
      ]
    },
    {
      "cell_type": "code",
      "source": [
        "for i in range(5):\n",
        "  for j in range(1,i+1):\n",
        "    print(j,end=\",\")\n",
        "  print()"
      ],
      "metadata": {
        "id": "5I3A61UPntr9",
        "colab": {
          "base_uri": "https://localhost:8080/"
        },
        "outputId": "cfd51152-138d-4002-f50d-7aea86b007d1"
      },
      "execution_count": null,
      "outputs": [
        {
          "output_type": "stream",
          "name": "stdout",
          "text": [
            "\n",
            "1,\n",
            "1,2,\n",
            "1,2,3,\n",
            "1,2,3,4,\n"
          ]
        }
      ]
    },
    {
      "cell_type": "code",
      "source": [
        "for i in range(1,5):\n",
        "  print(i,end=\"\")"
      ],
      "metadata": {
        "colab": {
          "base_uri": "https://localhost:8080/"
        },
        "id": "Cmp58xEm1wr-",
        "outputId": "ff6b60e0-079f-4347-c903-8c3025cd6365"
      },
      "execution_count": null,
      "outputs": [
        {
          "output_type": "stream",
          "name": "stdout",
          "text": [
            "1234"
          ]
        }
      ]
    },
    {
      "cell_type": "code",
      "source": [
        "for i in range(1,11):\n",
        "  if i<:print(i*i)\n"
      ],
      "metadata": {
        "id": "bxkHnBUy2nux",
        "colab": {
          "base_uri": "https://localhost:8080/"
        },
        "outputId": "39394d31-840e-4363-d071-d73b45968fcc"
      },
      "execution_count": 7,
      "outputs": [
        {
          "output_type": "stream",
          "name": "stdout",
          "text": [
            "1\n",
            "4\n",
            "9\n",
            "16\n",
            "25\n",
            "36\n",
            "49\n",
            "64\n",
            "81\n"
          ]
        }
      ]
    },
    {
      "cell_type": "code",
      "source": [
        "n = 100\n",
        "sum = 0\n",
        "for i in range(1,n+1):\n",
        "  sum = sum + i\n",
        "print(sum)"
      ],
      "metadata": {
        "colab": {
          "base_uri": "https://localhost:8080/"
        },
        "id": "v3c6p3JVXsJh",
        "outputId": "c3bf1f7a-fdc0-44bd-d8a3-0901135fb8eb"
      },
      "execution_count": 11,
      "outputs": [
        {
          "output_type": "stream",
          "name": "stdout",
          "text": [
            "5050\n"
          ]
        }
      ]
    },
    {
      "cell_type": "code",
      "source": [
        "numbers = [1,3,5,7,9]\n",
        "for i in numbers:\n",
        "  print(i,)"
      ],
      "metadata": {
        "colab": {
          "base_uri": "https://localhost:8080/"
        },
        "id": "RNeZa4P8ZZuM",
        "outputId": "0e7866f1-8c74-4bc1-8bbd-54b44a438ab8"
      },
      "execution_count": 15,
      "outputs": [
        {
          "output_type": "stream",
          "name": "stdout",
          "text": [
            "1\n",
            "3\n",
            "5\n",
            "7\n",
            "9\n"
          ]
        }
      ]
    },
    {
      "cell_type": "code",
      "source": [
        "n = 10\n",
        "fac = 1\n",
        "for i in range(1,n+1):\n",
        "  fac = fac * i\n",
        "print(fac)"
      ],
      "metadata": {
        "colab": {
          "base_uri": "https://localhost:8080/"
        },
        "id": "iBKwfEWraC8Q",
        "outputId": "1e32dd01-e3aa-4285-b3d2-420be56fa441"
      },
      "execution_count": 18,
      "outputs": [
        {
          "output_type": "stream",
          "name": "stdout",
          "text": [
            "3628800\n"
          ]
        }
      ]
    },
    {
      "cell_type": "code",
      "source": [
        "string =\"hello\"\n",
        "rev = \"\"\n",
        "for char in string:\n",
        "  rev = char + rev\n",
        "print(rev)\n"
      ],
      "metadata": {
        "colab": {
          "base_uri": "https://localhost:8080/"
        },
        "id": "rk46T2B5aW3k",
        "outputId": "a54a5e30-bf85-4fd5-a37f-c660386adbd2"
      },
      "execution_count": 22,
      "outputs": [
        {
          "output_type": "stream",
          "name": "stdout",
          "text": [
            "olleh\n"
          ]
        }
      ]
    },
    {
      "cell_type": "code",
      "source": [
        "string = \"hello\"\n",
        "rev = \"\"\n",
        "i = 0\n",
        "while i < len(string):\n",
        "  rev = string[i] + rev\n",
        "  i = i + 1\n",
        "print(rev)"
      ],
      "metadata": {
        "colab": {
          "base_uri": "https://localhost:8080/"
        },
        "id": "qkRXkSk1bABb",
        "outputId": "35fe0126-88d1-4bb5-d243-d13346e46a26"
      },
      "execution_count": 28,
      "outputs": [
        {
          "output_type": "stream",
          "name": "stdout",
          "text": [
            "olleh\n"
          ]
        }
      ]
    },
    {
      "cell_type": "code",
      "source": [
        "import math\n",
        "\n",
        "def is_prime(n):\n",
        "    if n <= 1:\n",
        "        return \"NOT PRIME\"\n",
        "    if n <= 3:\n",
        "        return \"PRIME\"\n",
        "    if n % 2 == 0 or n % 3 == 0:\n",
        "        return \"NOT PRIME\"\n",
        "\n",
        "    i = 5\n",
        "    while i * i <= n:\n",
        "        if n % i == 0 or n % (i + 2) == 0:\n",
        "            return \"NOT PRIME\"\n",
        "        i += 6\n",
        "\n",
        "    return \"PRIME\"\n",
        "is_prime(121)\n"
      ],
      "metadata": {
        "colab": {
          "base_uri": "https://localhost:8080/",
          "height": 36
        },
        "id": "_JQ5wvobbsRt",
        "outputId": "67662068-601c-40b8-83d4-3ada12e897e0"
      },
      "execution_count": 62,
      "outputs": [
        {
          "output_type": "execute_result",
          "data": {
            "text/plain": [
              "'NOT PRIME'"
            ],
            "application/vnd.google.colaboratory.intrinsic+json": {
              "type": "string"
            }
          },
          "metadata": {},
          "execution_count": 62
        }
      ]
    },
    {
      "cell_type": "code",
      "source": [
        "\n"
      ],
      "metadata": {
        "id": "bkGQej_uneOT"
      },
      "execution_count": 58,
      "outputs": []
    }
  ]
}